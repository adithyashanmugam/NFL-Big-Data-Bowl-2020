{
 "cells": [
  {
   "cell_type": "code",
   "execution_count": null,
   "metadata": {},
   "outputs": [],
   "source": [
    "import pandas as pd\n",
    "import numpy as np\n",
    "import itertools as it\n",
    "import matplotlib.pyplot as plt\n",
    "from scipy import stats\n",
    "from collections import defaultdict"
   ]
  },
  {
   "cell_type": "code",
   "execution_count": 43,
   "metadata": {},
   "outputs": [],
   "source": [
    "players = pd.read_csv('./data/players.csv')\n",
    "games = pd.read_csv('./data/games.csv')\n",
    "GAME1 = games.iloc[0].gameId"
   ]
  },
  {
   "cell_type": "code",
   "execution_count": 7,
   "metadata": {},
   "outputs": [
    {
     "data": {
      "text/plain": [
       "array(['None', 'ball_snap', 'pass_forward', 'pass_arrived',\n",
       "       'pass_outcome_caught', 'out_of_bounds', 'pass_outcome_incomplete',\n",
       "       'first_contact', 'tackle', 'man_in_motion', 'play_action',\n",
       "       'qb_sack', 'fumble', 'fumble_offense_recovered', 'handoff',\n",
       "       'pass_tipped', 'pass_outcome_interception', 'qb_strip_sack',\n",
       "       'pass_shovel', 'line_set'], dtype=object)"
      ]
     },
     "execution_count": 7,
     "metadata": {},
     "output_type": "execute_result"
    }
   ],
   "source": [
    "plays = pd.read_csv('./data/plays.csv')\n",
    "p1 = plays[plays['gameId'] == GAME1]\n",
    "week1 = pd.read_csv('./data/week1.csv')\n",
    "week1 = week1.loc[(week1['gameId'] == GAME1)]\n",
    "pd.unique(week1.event)"
   ]
  },
  {
   "cell_type": "code",
   "execution_count": 23,
   "metadata": {},
   "outputs": [],
   "source": [
    "p1 = p1[p1.passResult.isin(['C'])]"
   ]
  },
  {
   "cell_type": "code",
   "execution_count": 30,
   "metadata": {},
   "outputs": [],
   "source": [
    "def mapIdToName(id):\n",
    "    return players[players['nflId'] == id].iloc[0].displayName"
   ]
  },
  {
   "cell_type": "code",
   "execution_count": 27,
   "metadata": {},
   "outputs": [],
   "source": [
    "def getClosest(players, football):\n",
    "    distances = []\n",
    "    for index, row in players.iterrows():\n",
    "        distance = np.linalg.norm(np.subtract([football.x.values[0], football.y.values[0]], [row.x, row.y]))\n",
    "        distances.append((row.nflId, distance))\n",
    "    closest = sorted(distances, key= lambda t: t[1])[0][0]\n",
    "    return closest"
   ]
  },
  {
   "cell_type": "code",
   "execution_count": 28,
   "metadata": {},
   "outputs": [],
   "source": [
    "tackle_acc = defaultdict(list)\n",
    "total_tackles = defaultdict(int)"
   ]
  },
  {
   "cell_type": "code",
   "execution_count": 41,
   "metadata": {},
   "outputs": [
    {
     "data": {
      "text/plain": [
       "{2552689.0: [1, 1, 1, 1],\n",
       " 2539653.0: [1, 1, 1, 1, 1, 1, 1, 1, 1, 1, 1, 1],\n",
       " 2495613.0: [0, 1, 0, 1, 0, 1, 0, 1],\n",
       " 2555255.0: [1, 1, 1, 1],\n",
       " 2555162.0: [0, 1, 1, 0, 1, 1, 0, 1, 1, 0, 1, 1],\n",
       " 79848.0: [1, 1, 1, 1, 1, 1, 1, 1],\n",
       " 2556445.0: [0, 0, 0, 0],\n",
       " 2539334.0: [1, 1, 1, 1],\n",
       " 2552315.0: [0, 0, 0, 0],\n",
       " 2543850.0: [0, 1, 1, 0, 1, 1, 0, 1, 1, 0, 1, 1],\n",
       " 2557967.0: [1, 1, 1, 1],\n",
       " 2555383.0: [1, 0, 1, 0, 1, 0, 1, 0],\n",
       " 2557958.0: [1, 1, 1, 1],\n",
       " 2552301.0: [0, 0, 0, 0],\n",
       " 2534832.0: [1, 0, 1, 0, 1, 0, 1, 0]}"
      ]
     },
     "execution_count": 41,
     "metadata": {},
     "output_type": "execute_result"
    }
   ],
   "source": [
    "\n",
    "        \n",
    "for PLAY in p1.playId:\n",
    "    curr_play = week1[week1['playId'] == PLAY]\n",
    "    DEFENSIVE_TEAM = curr_play[curr_play['position'] == 'CB'].team.values[0]\n",
    "    \n",
    "    play_events = pd.unique(curr_play.event)\n",
    "    if 'fumble' in play_events:\n",
    "        print('Fumble play:', PLAY)\n",
    "    elif 'first_contact' in play_events:\n",
    "        \n",
    "        first_contact = curr_play[curr_play['event'] == 'first_contact']\n",
    "        football = first_contact[first_contact['team'] == 'football']\n",
    "        defensive_players = first_contact[first_contact['team'] == DEFENSIVE_TEAM]\n",
    "        closest1 = getClosest(defensive_players, football)\n",
    "        \n",
    "        if 'tackle' in play_events:\n",
    "            END_EVENT = 'tackle'\n",
    "        elif 'out_of_bounds' in play_events:\n",
    "            END_EVENT = 'out_of_bounds'\n",
    "        else:\n",
    "            continue\n",
    "    \n",
    "        end = curr_play[curr_play['event'] == END_EVENT]\n",
    "        football = end[end['team'] == 'football']\n",
    "        defensive_players = end[end['team'] == DEFENSIVE_TEAM]\n",
    "        closest2 = getClosest(defensive_players, football)\n",
    "        \n",
    "#         print(closest1, closest2, END_EVENT)\n",
    "        total_tackles[closest2] += 1\n",
    "        if closest1 == closest2:\n",
    "            tackle_acc[closest1].append(1)\n",
    "        else:\n",
    "            tackle_acc[closest1].append(0)\n",
    "dict(tackle_acc)  "
   ]
  },
  {
   "cell_type": "code",
   "execution_count": 42,
   "metadata": {},
   "outputs": [
    {
     "data": {
      "text/plain": [
       "{'Ronald Darby': 1.0,\n",
       " 'Robert Alford': 1.0,\n",
       " 'Corey Graham': 0.5,\n",
       " \"De'Vondre Campbell\": 1.0,\n",
       " 'Deion Jones': 0.6666666666666666,\n",
       " 'Malcolm Jenkins': 1.0,\n",
       " 'Brian Poole': 0.0,\n",
       " 'Desmond Trufant': 1.0,\n",
       " 'Jordan Hicks': 0.0,\n",
       " 'Ricardo Allen': 0.6666666666666666,\n",
       " 'Duke Riley': 1.0,\n",
       " 'Jalen Mills': 0.5,\n",
       " 'Sidney Jones': 1.0,\n",
       " 'Vic Beasley': 0.0,\n",
       " 'Rodney McLeod': 0.5}"
      ]
     },
     "execution_count": 42,
     "metadata": {},
     "output_type": "execute_result"
    }
   ],
   "source": [
    "tackle_acc_r = {mapIdToName(k): np.sum(tackle_acc[k]) / len(tackle_acc[k]) for k,v in tackle_acc.items()}\n",
    "tackle_acc_r"
   ]
  },
  {
   "cell_type": "code",
   "execution_count": 48,
   "metadata": {},
   "outputs": [
    {
     "name": "stdout",
     "output_type": "stream",
     "text": [
      "1\n",
      "2\n",
      "3\n",
      "4\n",
      "5\n",
      "6\n",
      "7\n",
      "8\n",
      "9\n",
      "10\n",
      "11\n",
      "12\n",
      "13\n",
      "14\n",
      "15\n",
      "16\n",
      "17\n"
     ]
    }
   ],
   "source": [
    "tackle_acc = defaultdict(list)\n",
    "for week_num in range(1, 18):\n",
    "    print(week_num)\n",
    "    g_week = games[games['week'] == week_num]\n",
    "    week_str = './data/week' + str(week_num) + '.csv'\n",
    "    current_week = pd.read_csv(week_str)\n",
    "    \n",
    "    for g_ind, g_row in g_week.iterrows():\n",
    "        GAMEID = g_row.gameId\n",
    "        cwg = current_week[current_week['gameId'] == GAMEID]\n",
    "        pg = plays[plays['gameId'] == GAMEID]\n",
    "        \n",
    "        for PLAY in pg.playId:\n",
    "            curr_play = cwg[cwg['playId'] == PLAY]\n",
    "            try:\n",
    "                DEFENSIVE_TEAM = curr_play[curr_play['position'] == 'CB'].team.values[0]\n",
    "            except:\n",
    "                continue\n",
    "\n",
    "            play_events = pd.unique(curr_play.event)\n",
    "            if 'fumble' in play_events:\n",
    "#                 print('Fumble play:', PLAY)\n",
    "                pass\n",
    "            elif 'first_contact' in play_events:\n",
    "                try:\n",
    "                    first_contact = curr_play[curr_play['event'] == 'first_contact']\n",
    "                    football = first_contact[first_contact['team'] == 'football']\n",
    "                    defensive_players = first_contact[first_contact['team'] == DEFENSIVE_TEAM]\n",
    "                    closest1 = getClosest(defensive_players, football)\n",
    "\n",
    "                    if 'tackle' in play_events:\n",
    "                        END_EVENT = 'tackle'\n",
    "                    elif 'out_of_bounds' in play_events:\n",
    "                        END_EVENT = 'out_of_bounds'\n",
    "                    else:\n",
    "                        continue\n",
    "\n",
    "                    end = curr_play[curr_play['event'] == END_EVENT]\n",
    "                    football = end[end['team'] == 'football']\n",
    "                    defensive_players = end[end['team'] == DEFENSIVE_TEAM]\n",
    "                    closest2 = getClosest(defensive_players, football)\n",
    "\n",
    "                    if closest1 == closest2:\n",
    "                        tackle_acc[closest1].append(1)\n",
    "                    else:\n",
    "                        tackle_acc[closest1].append(0)\n",
    "                except:\n",
    "                    continue"
   ]
  },
  {
   "cell_type": "code",
   "execution_count": 1,
   "metadata": {},
   "outputs": [
    {
     "ename": "NameError",
     "evalue": "name 'tackle_acc' is not defined",
     "output_type": "error",
     "traceback": [
      "\u001b[1;31m---------------------------------------------------------------------------\u001b[0m",
      "\u001b[1;31mNameError\u001b[0m                                 Traceback (most recent call last)",
      "\u001b[1;32m<ipython-input-1-3c00cf7b963d>\u001b[0m in \u001b[0;36m<module>\u001b[1;34m\u001b[0m\n\u001b[1;32m----> 1\u001b[1;33m \u001b[0mtackle_acc_r\u001b[0m \u001b[1;33m=\u001b[0m \u001b[1;33m{\u001b[0m\u001b[0mmapIdToName\u001b[0m\u001b[1;33m(\u001b[0m\u001b[0mk\u001b[0m\u001b[1;33m)\u001b[0m\u001b[1;33m:\u001b[0m \u001b[0mnp\u001b[0m\u001b[1;33m.\u001b[0m\u001b[0msum\u001b[0m\u001b[1;33m(\u001b[0m\u001b[0mv\u001b[0m\u001b[1;33m)\u001b[0m \u001b[1;33m/\u001b[0m \u001b[0mlen\u001b[0m\u001b[1;33m(\u001b[0m\u001b[0mv\u001b[0m\u001b[1;33m)\u001b[0m \u001b[1;32mfor\u001b[0m \u001b[0mk\u001b[0m\u001b[1;33m,\u001b[0m\u001b[0mv\u001b[0m \u001b[1;32min\u001b[0m \u001b[0mtackle_acc\u001b[0m\u001b[1;33m.\u001b[0m\u001b[0mitems\u001b[0m\u001b[1;33m(\u001b[0m\u001b[1;33m)\u001b[0m \u001b[1;32mif\u001b[0m \u001b[0mlen\u001b[0m\u001b[1;33m(\u001b[0m\u001b[0mv\u001b[0m\u001b[1;33m)\u001b[0m \u001b[1;33m>\u001b[0m \u001b[1;36m30\u001b[0m\u001b[1;33m}\u001b[0m\u001b[1;33m\u001b[0m\u001b[1;33m\u001b[0m\u001b[0m\n\u001b[0m\u001b[0;32m      2\u001b[0m \u001b[0msorted\u001b[0m\u001b[1;33m(\u001b[0m\u001b[0mtackle_acc_r\u001b[0m\u001b[1;33m.\u001b[0m\u001b[0mitems\u001b[0m\u001b[1;33m(\u001b[0m\u001b[1;33m)\u001b[0m\u001b[1;33m,\u001b[0m \u001b[0mkey\u001b[0m\u001b[1;33m=\u001b[0m\u001b[1;32mlambda\u001b[0m \u001b[0mt\u001b[0m\u001b[1;33m:\u001b[0m \u001b[0mt\u001b[0m\u001b[1;33m[\u001b[0m\u001b[1;36m1\u001b[0m\u001b[1;33m]\u001b[0m\u001b[1;33m,\u001b[0m \u001b[0mreverse\u001b[0m\u001b[1;33m=\u001b[0m\u001b[1;32mTrue\u001b[0m\u001b[1;33m)\u001b[0m\u001b[1;33m[\u001b[0m\u001b[1;33m:\u001b[0m\u001b[1;36m50\u001b[0m\u001b[1;33m]\u001b[0m\u001b[1;33m\u001b[0m\u001b[1;33m\u001b[0m\u001b[0m\n",
      "\u001b[1;31mNameError\u001b[0m: name 'tackle_acc' is not defined"
     ]
    }
   ],
   "source": [
    "tackle_acc_r = {mapIdToName(k): np.sum(v) / len(v) for k,v in tackle_acc.items() if len(v) > 17}\n",
    "sorted(tackle_acc_r.items(), key=lambda t: t[1], reverse=True)[:50]"
   ]
  },
  {
   "cell_type": "code",
   "execution_count": null,
   "metadata": {},
   "outputs": [],
   "source": []
  }
 ],
 "metadata": {
  "kernelspec": {
   "display_name": "Python 3",
   "language": "python",
   "name": "python3"
  },
  "language_info": {
   "codemirror_mode": {
    "name": "ipython",
    "version": 3
   },
   "file_extension": ".py",
   "mimetype": "text/x-python",
   "name": "python",
   "nbconvert_exporter": "python",
   "pygments_lexer": "ipython3",
   "version": "3.7.6"
  }
 },
 "nbformat": 4,
 "nbformat_minor": 4
}
