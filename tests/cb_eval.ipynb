{
 "cells": [
  {
   "cell_type": "code",
   "execution_count": 1,
   "metadata": {},
   "outputs": [],
   "source": [
    "import pandas as pd\n",
    "import numpy as np\n",
    "import itertools as it\n",
    "import matplotlib.pyplot as plt\n",
    "from scipy import stats\n",
    "from collections import defaultdict"
   ]
  },
  {
   "cell_type": "code",
   "execution_count": 2,
   "metadata": {},
   "outputs": [],
   "source": [
    "games = pd.read_csv('./data/games.csv')\n",
    "GAME1 = games.iloc[0].gameId"
   ]
  },
  {
   "cell_type": "code",
   "execution_count": 3,
   "metadata": {},
   "outputs": [],
   "source": [
    "plays = pd.read_csv('./data/plays.csv')\n",
    "plays = plays[plays['gameId'] == GAME1]\n",
    "PLAY1 = plays.iloc[0].playId"
   ]
  },
  {
   "cell_type": "code",
   "execution_count": 4,
   "metadata": {},
   "outputs": [
    {
     "data": {
      "text/html": [
       "<div>\n",
       "<style scoped>\n",
       "    .dataframe tbody tr th:only-of-type {\n",
       "        vertical-align: middle;\n",
       "    }\n",
       "\n",
       "    .dataframe tbody tr th {\n",
       "        vertical-align: top;\n",
       "    }\n",
       "\n",
       "    .dataframe thead th {\n",
       "        text-align: right;\n",
       "    }\n",
       "</style>\n",
       "<table border=\"1\" class=\"dataframe\">\n",
       "  <thead>\n",
       "    <tr style=\"text-align: right;\">\n",
       "      <th></th>\n",
       "      <th>time</th>\n",
       "      <th>x</th>\n",
       "      <th>y</th>\n",
       "      <th>s</th>\n",
       "      <th>a</th>\n",
       "      <th>dis</th>\n",
       "      <th>o</th>\n",
       "      <th>dir</th>\n",
       "      <th>event</th>\n",
       "      <th>nflId</th>\n",
       "      <th>displayName</th>\n",
       "      <th>jerseyNumber</th>\n",
       "      <th>position</th>\n",
       "      <th>frameId</th>\n",
       "      <th>team</th>\n",
       "      <th>gameId</th>\n",
       "      <th>playId</th>\n",
       "      <th>playDirection</th>\n",
       "      <th>route</th>\n",
       "    </tr>\n",
       "  </thead>\n",
       "  <tbody>\n",
       "    <tr>\n",
       "      <th>1</th>\n",
       "      <td>2018-09-07T01:07:14.599Z</td>\n",
       "      <td>88.89</td>\n",
       "      <td>36.47</td>\n",
       "      <td>0.01</td>\n",
       "      <td>0.01</td>\n",
       "      <td>0.01</td>\n",
       "      <td>105.63</td>\n",
       "      <td>66.66</td>\n",
       "      <td>None</td>\n",
       "      <td>79848.0</td>\n",
       "      <td>Malcolm Jenkins</td>\n",
       "      <td>27.0</td>\n",
       "      <td>SS</td>\n",
       "      <td>1</td>\n",
       "      <td>home</td>\n",
       "      <td>2018090600</td>\n",
       "      <td>75</td>\n",
       "      <td>left</td>\n",
       "      <td>NaN</td>\n",
       "    </tr>\n",
       "    <tr>\n",
       "      <th>2</th>\n",
       "      <td>2018-09-07T01:07:14.599Z</td>\n",
       "      <td>91.35</td>\n",
       "      <td>44.16</td>\n",
       "      <td>0.02</td>\n",
       "      <td>0.03</td>\n",
       "      <td>0.01</td>\n",
       "      <td>290.45</td>\n",
       "      <td>16.86</td>\n",
       "      <td>None</td>\n",
       "      <td>2495454.0</td>\n",
       "      <td>Julio Jones</td>\n",
       "      <td>11.0</td>\n",
       "      <td>WR</td>\n",
       "      <td>1</td>\n",
       "      <td>away</td>\n",
       "      <td>2018090600</td>\n",
       "      <td>75</td>\n",
       "      <td>left</td>\n",
       "      <td>HITCH</td>\n",
       "    </tr>\n",
       "    <tr>\n",
       "      <th>3</th>\n",
       "      <td>2018-09-07T01:07:14.599Z</td>\n",
       "      <td>86.31</td>\n",
       "      <td>22.01</td>\n",
       "      <td>0.09</td>\n",
       "      <td>0.42</td>\n",
       "      <td>0.01</td>\n",
       "      <td>70.12</td>\n",
       "      <td>168.91</td>\n",
       "      <td>None</td>\n",
       "      <td>2495613.0</td>\n",
       "      <td>Corey Graham</td>\n",
       "      <td>24.0</td>\n",
       "      <td>FS</td>\n",
       "      <td>1</td>\n",
       "      <td>home</td>\n",
       "      <td>2018090600</td>\n",
       "      <td>75</td>\n",
       "      <td>left</td>\n",
       "      <td>NaN</td>\n",
       "    </tr>\n",
       "    <tr>\n",
       "      <th>4</th>\n",
       "      <td>2018-09-07T01:07:14.599Z</td>\n",
       "      <td>90.78</td>\n",
       "      <td>36.15</td>\n",
       "      <td>0.00</td>\n",
       "      <td>0.00</td>\n",
       "      <td>0.00</td>\n",
       "      <td>257.61</td>\n",
       "      <td>193.97</td>\n",
       "      <td>None</td>\n",
       "      <td>2533040.0</td>\n",
       "      <td>Mohamed Sanu</td>\n",
       "      <td>12.0</td>\n",
       "      <td>WR</td>\n",
       "      <td>1</td>\n",
       "      <td>away</td>\n",
       "      <td>2018090600</td>\n",
       "      <td>75</td>\n",
       "      <td>left</td>\n",
       "      <td>HITCH</td>\n",
       "    </tr>\n",
       "    <tr>\n",
       "      <th>5</th>\n",
       "      <td>2018-09-07T01:07:14.599Z</td>\n",
       "      <td>73.64</td>\n",
       "      <td>28.70</td>\n",
       "      <td>0.03</td>\n",
       "      <td>0.02</td>\n",
       "      <td>0.01</td>\n",
       "      <td>103.05</td>\n",
       "      <td>219.41</td>\n",
       "      <td>None</td>\n",
       "      <td>2534832.0</td>\n",
       "      <td>Rodney McLeod</td>\n",
       "      <td>23.0</td>\n",
       "      <td>FS</td>\n",
       "      <td>1</td>\n",
       "      <td>home</td>\n",
       "      <td>2018090600</td>\n",
       "      <td>75</td>\n",
       "      <td>left</td>\n",
       "      <td>NaN</td>\n",
       "    </tr>\n",
       "    <tr>\n",
       "      <th>...</th>\n",
       "      <td>...</td>\n",
       "      <td>...</td>\n",
       "      <td>...</td>\n",
       "      <td>...</td>\n",
       "      <td>...</td>\n",
       "      <td>...</td>\n",
       "      <td>...</td>\n",
       "      <td>...</td>\n",
       "      <td>...</td>\n",
       "      <td>...</td>\n",
       "      <td>...</td>\n",
       "      <td>...</td>\n",
       "      <td>...</td>\n",
       "      <td>...</td>\n",
       "      <td>...</td>\n",
       "      <td>...</td>\n",
       "      <td>...</td>\n",
       "      <td>...</td>\n",
       "      <td>...</td>\n",
       "    </tr>\n",
       "    <tr>\n",
       "      <th>818</th>\n",
       "      <td>2018-09-07T01:07:20.400Z</td>\n",
       "      <td>87.30</td>\n",
       "      <td>31.39</td>\n",
       "      <td>2.21</td>\n",
       "      <td>2.11</td>\n",
       "      <td>0.23</td>\n",
       "      <td>326.03</td>\n",
       "      <td>289.29</td>\n",
       "      <td>None</td>\n",
       "      <td>2543583.0</td>\n",
       "      <td>Devonta Freeman</td>\n",
       "      <td>24.0</td>\n",
       "      <td>RB</td>\n",
       "      <td>59</td>\n",
       "      <td>away</td>\n",
       "      <td>2018090600</td>\n",
       "      <td>75</td>\n",
       "      <td>left</td>\n",
       "      <td>NaN</td>\n",
       "    </tr>\n",
       "    <tr>\n",
       "      <th>820</th>\n",
       "      <td>2018-09-07T01:07:20.400Z</td>\n",
       "      <td>75.33</td>\n",
       "      <td>12.57</td>\n",
       "      <td>2.55</td>\n",
       "      <td>4.00</td>\n",
       "      <td>0.27</td>\n",
       "      <td>305.76</td>\n",
       "      <td>227.43</td>\n",
       "      <td>None</td>\n",
       "      <td>2552689.0</td>\n",
       "      <td>Ronald Darby</td>\n",
       "      <td>21.0</td>\n",
       "      <td>CB</td>\n",
       "      <td>59</td>\n",
       "      <td>home</td>\n",
       "      <td>2018090600</td>\n",
       "      <td>75</td>\n",
       "      <td>left</td>\n",
       "      <td>NaN</td>\n",
       "    </tr>\n",
       "    <tr>\n",
       "      <th>821</th>\n",
       "      <td>2018-09-07T01:07:20.400Z</td>\n",
       "      <td>76.75</td>\n",
       "      <td>52.42</td>\n",
       "      <td>3.86</td>\n",
       "      <td>3.56</td>\n",
       "      <td>0.39</td>\n",
       "      <td>55.22</td>\n",
       "      <td>22.42</td>\n",
       "      <td>None</td>\n",
       "      <td>2555383.0</td>\n",
       "      <td>Jalen Mills</td>\n",
       "      <td>31.0</td>\n",
       "      <td>CB</td>\n",
       "      <td>59</td>\n",
       "      <td>home</td>\n",
       "      <td>2018090600</td>\n",
       "      <td>75</td>\n",
       "      <td>left</td>\n",
       "      <td>NaN</td>\n",
       "    </tr>\n",
       "    <tr>\n",
       "      <th>822</th>\n",
       "      <td>2018-09-07T01:07:20.400Z</td>\n",
       "      <td>77.41</td>\n",
       "      <td>9.59</td>\n",
       "      <td>3.44</td>\n",
       "      <td>5.45</td>\n",
       "      <td>0.38</td>\n",
       "      <td>96.53</td>\n",
       "      <td>182.50</td>\n",
       "      <td>None</td>\n",
       "      <td>2555415.0</td>\n",
       "      <td>Austin Hooper</td>\n",
       "      <td>81.0</td>\n",
       "      <td>TE</td>\n",
       "      <td>59</td>\n",
       "      <td>away</td>\n",
       "      <td>2018090600</td>\n",
       "      <td>75</td>\n",
       "      <td>left</td>\n",
       "      <td>OUT</td>\n",
       "    </tr>\n",
       "    <tr>\n",
       "      <th>824</th>\n",
       "      <td>2018-09-07T01:07:20.400Z</td>\n",
       "      <td>84.31</td>\n",
       "      <td>5.74</td>\n",
       "      <td>3.78</td>\n",
       "      <td>4.31</td>\n",
       "      <td>0.38</td>\n",
       "      <td>39.11</td>\n",
       "      <td>246.16</td>\n",
       "      <td>None</td>\n",
       "      <td>2559033.0</td>\n",
       "      <td>Ricky Ortiz</td>\n",
       "      <td>30.0</td>\n",
       "      <td>FB</td>\n",
       "      <td>59</td>\n",
       "      <td>away</td>\n",
       "      <td>2018090600</td>\n",
       "      <td>75</td>\n",
       "      <td>left</td>\n",
       "      <td>FLAT</td>\n",
       "    </tr>\n",
       "  </tbody>\n",
       "</table>\n",
       "<p>590 rows × 19 columns</p>\n",
       "</div>"
      ],
      "text/plain": [
       "                         time      x      y     s     a   dis       o     dir  \\\n",
       "1    2018-09-07T01:07:14.599Z  88.89  36.47  0.01  0.01  0.01  105.63   66.66   \n",
       "2    2018-09-07T01:07:14.599Z  91.35  44.16  0.02  0.03  0.01  290.45   16.86   \n",
       "3    2018-09-07T01:07:14.599Z  86.31  22.01  0.09  0.42  0.01   70.12  168.91   \n",
       "4    2018-09-07T01:07:14.599Z  90.78  36.15  0.00  0.00  0.00  257.61  193.97   \n",
       "5    2018-09-07T01:07:14.599Z  73.64  28.70  0.03  0.02  0.01  103.05  219.41   \n",
       "..                        ...    ...    ...   ...   ...   ...     ...     ...   \n",
       "818  2018-09-07T01:07:20.400Z  87.30  31.39  2.21  2.11  0.23  326.03  289.29   \n",
       "820  2018-09-07T01:07:20.400Z  75.33  12.57  2.55  4.00  0.27  305.76  227.43   \n",
       "821  2018-09-07T01:07:20.400Z  76.75  52.42  3.86  3.56  0.39   55.22   22.42   \n",
       "822  2018-09-07T01:07:20.400Z  77.41   9.59  3.44  5.45  0.38   96.53  182.50   \n",
       "824  2018-09-07T01:07:20.400Z  84.31   5.74  3.78  4.31  0.38   39.11  246.16   \n",
       "\n",
       "    event      nflId      displayName  jerseyNumber position  frameId  team  \\\n",
       "1    None    79848.0  Malcolm Jenkins          27.0       SS        1  home   \n",
       "2    None  2495454.0      Julio Jones          11.0       WR        1  away   \n",
       "3    None  2495613.0     Corey Graham          24.0       FS        1  home   \n",
       "4    None  2533040.0     Mohamed Sanu          12.0       WR        1  away   \n",
       "5    None  2534832.0    Rodney McLeod          23.0       FS        1  home   \n",
       "..    ...        ...              ...           ...      ...      ...   ...   \n",
       "818  None  2543583.0  Devonta Freeman          24.0       RB       59  away   \n",
       "820  None  2552689.0     Ronald Darby          21.0       CB       59  home   \n",
       "821  None  2555383.0      Jalen Mills          31.0       CB       59  home   \n",
       "822  None  2555415.0    Austin Hooper          81.0       TE       59  away   \n",
       "824  None  2559033.0      Ricky Ortiz          30.0       FB       59  away   \n",
       "\n",
       "         gameId  playId playDirection  route  \n",
       "1    2018090600      75          left    NaN  \n",
       "2    2018090600      75          left  HITCH  \n",
       "3    2018090600      75          left    NaN  \n",
       "4    2018090600      75          left  HITCH  \n",
       "5    2018090600      75          left    NaN  \n",
       "..          ...     ...           ...    ...  \n",
       "818  2018090600      75          left    NaN  \n",
       "820  2018090600      75          left    NaN  \n",
       "821  2018090600      75          left    NaN  \n",
       "822  2018090600      75          left    OUT  \n",
       "824  2018090600      75          left   FLAT  \n",
       "\n",
       "[590 rows x 19 columns]"
      ]
     },
     "execution_count": 4,
     "metadata": {},
     "output_type": "execute_result"
    }
   ],
   "source": [
    "week1 = pd.read_csv('./data/week1.csv')\n",
    "wgp1 = week1.loc[(week1['gameId'] == GAME1) & (week1['playId'] == PLAY1) & (np.invert(week1.position.isin(['QB', 'LB', 'MLB']))) & (week1['team'] != 'football')]\n",
    "wgp1"
   ]
  },
  {
   "cell_type": "code",
   "execution_count": 5,
   "metadata": {},
   "outputs": [
    {
     "data": {
      "text/plain": [
       "array(['None', 'ball_snap', 'pass_forward', 'pass_arrived',\n",
       "       'pass_outcome_caught', 'out_of_bounds'], dtype=object)"
      ]
     },
     "execution_count": 5,
     "metadata": {},
     "output_type": "execute_result"
    }
   ],
   "source": [
    "pd.unique(wgp1.event)"
   ]
  },
  {
   "cell_type": "code",
   "execution_count": 6,
   "metadata": {},
   "outputs": [],
   "source": [
    "time1 = wgp1[wgp1['event'] == 'ball_snap'].time.iloc[0]\n",
    "time2 = wgp1[wgp1['event'] == 'pass_forward'].time.iloc[0]\n",
    "wgp1_tf = wgp1.loc[(wgp1['time'] >= time1) & (wgp1['time'] <= time2)]"
   ]
  },
  {
   "cell_type": "code",
   "execution_count": 7,
   "metadata": {},
   "outputs": [],
   "source": [
    "ball_snap = wgp1_tf[wgp1_tf['event'] == 'ball_snap']\n",
    "offense = []\n",
    "defense = []\n",
    "for i,r in ball_snap.iterrows():\n",
    "    tup = (r.nflId, r.x, r.y)\n",
    "    if r.team == 'away':\n",
    "        offense.append(tup)\n",
    "    else:\n",
    "        defense.append(tup)\n",
    "prod = list((it.product(offense, defense)))\n",
    "distances = [(wr[0], cb[0], np.linalg.norm(np.subtract([wr[1], wr[2]], [cb[1], cb[2]]))) for wr, cb in prod]\n",
    "distances = sorted(distances, key=lambda t: t[2])\n"
   ]
  },
  {
   "cell_type": "code",
   "execution_count": 8,
   "metadata": {},
   "outputs": [
    {
     "data": {
      "text/plain": [
       "[(2533040.0, 79848.0, 1.9203385118254552),\n",
       " (2555415.0, 2495613.0, 4.833352873523718),\n",
       " (2495454.0, 2555383.0, 7.472857552502922),\n",
       " (2559033.0, 2552689.0, 13.944177996569042),\n",
       " (2543583.0, 2534832.0, 24.727636360962606)]"
      ]
     },
     "execution_count": 8,
     "metadata": {},
     "output_type": "execute_result"
    }
   ],
   "source": [
    "pairs = []\n",
    "while(len(pairs) < len(offense)):\n",
    "    closest = distances[0]\n",
    "    pairs.append(closest)\n",
    "    distances = list(filter(lambda d: (d[0] != closest[0]) and (d[1] != closest[1]), distances[1:]))\n",
    "pairs"
   ]
  },
  {
   "cell_type": "code",
   "execution_count": 9,
   "metadata": {},
   "outputs": [],
   "source": [
    "players = pd.read_csv('./data/players.csv')\n",
    "p1 = players[players['nflId'] == 2533040].iloc[0].displayName\n",
    "def mapIdsToName(tup):\n",
    "    p1 = players[players['nflId'] == tup[0]].iloc[0].displayName\n",
    "    p2 = players[players['nflId'] == tup[1]].iloc[0].displayName\n",
    "    return (p1, p2)"
   ]
  },
  {
   "cell_type": "code",
   "execution_count": 10,
   "metadata": {},
   "outputs": [
    {
     "data": {
      "text/plain": [
       "[('Mohamed Sanu', 'Malcolm Jenkins'),\n",
       " ('Austin Hooper', 'Corey Graham'),\n",
       " ('Julio Jones', 'Jalen Mills'),\n",
       " ('Ricky Ortiz', 'Ronald Darby'),\n",
       " ('Devonta Freeman', 'Rodney McLeod')]"
      ]
     },
     "execution_count": 10,
     "metadata": {},
     "output_type": "execute_result"
    }
   ],
   "source": [
    "list(map(mapIdsToName, pairs))"
   ]
  },
  {
   "cell_type": "code",
   "execution_count": 11,
   "metadata": {},
   "outputs": [],
   "source": [
    "times = pd.unique(wgp1_tf.time)\n",
    "pairs = pairs[:3]\n",
    "distance = []\n",
    "predictor = []\n",
    "current_pos = 0\n",
    "for p in pairs:\n",
    "    starting_distance = -1\n",
    "    classification = 0\n",
    "    for t in times:\n",
    "        frame = wgp1_tf[wgp1_tf['time'] == t]\n",
    "        receiver = frame[frame['nflId'] == p[0]]\n",
    "        defender = frame[frame['nflId'] == p[1]]\n",
    "        xdif = np.abs(receiver.x.values[0] - defender.x.values[0])\n",
    "        ydif = np.abs(receiver.y.values[0] - defender.y.values[0])\n",
    "        dist = np.linalg.norm((xdif, ydif))\n",
    "        \n",
    "        if starting_distance < 0:\n",
    "            starting_distance = dist\n",
    "        \n",
    "        if np.abs(dist - starting_distance > 5):\n",
    "            classification = 1\n",
    "            break\n",
    "            \n",
    "    predictor.append(classification)\n",
    "\n"
   ]
  },
  {
   "cell_type": "code",
   "execution_count": 12,
   "metadata": {},
   "outputs": [
    {
     "name": "stdout",
     "output_type": "stream",
     "text": [
      "man\n"
     ]
    }
   ],
   "source": [
    "if stats.mode(predictor)[0][0] == 0:\n",
    "    play_type = 'man'\n",
    "else:\n",
    "    play_type = 'zone'\n",
    "print(play_type)"
   ]
  },
  {
   "cell_type": "code",
   "execution_count": 13,
   "metadata": {},
   "outputs": [
    {
     "data": {
      "text/plain": [
       "(0, 10)"
      ]
     },
     "execution_count": 13,
     "metadata": {},
     "output_type": "execute_result"
    },
    {
     "data": {
      "image/png": "[encoded data removed]",
      "text/plain": [
       "<Figure size 432x288 with 1 Axes>"
      ]
     },
     "metadata": {
      "needs_background": "light"
     },
     "output_type": "display_data"
    }
   ],
   "source": [
    "xs = np.arange(len(distance))\n",
    "plt.plot(xs, distance)\n",
    "plt.ylim([0, 10])"
   ]
  },
  {
   "cell_type": "code",
   "execution_count": 14,
   "metadata": {},
   "outputs": [],
   "source": [
    "from collections import defaultdict\n",
    "pairs = pairs[:3]\n",
    "pTp = [p[0] for p in pairs]\n",
    "pTp += [p[1] for p in pairs]\n",
    "playerpositions = defaultdict(lambda: defaultdict(list))\n",
    "for t in times:\n",
    "    frame = wgp1_tf[wgp1_tf['time'] == t]\n",
    "    for p in pTp:\n",
    "        player = frame[frame['nflId'] == p]\n",
    "        x = player.x.values[0]\n",
    "        y = player.y.values[0]\n",
    "        playerpositions[p]['x'].append(x)\n",
    "        playerpositions[p]['y'].append(y)\n",
    "        playerpositions[p]['team'] = player.team.values[0]"
   ]
  },
  {
   "cell_type": "code",
   "execution_count": 15,
   "metadata": {},
   "outputs": [
    {
     "data": {
      "image/png": "[encoded data removed]",
      "text/plain": [
       "<Figure size 432x288 with 1 Axes>"
      ]
     },
     "metadata": {
      "needs_background": "light"
     },
     "output_type": "display_data"
    }
   ],
   "source": [
    "offense = True\n",
    "for _id, vals in playerpositions.items():\n",
    "    if vals['team'] == 'away': \n",
    "        color = 'red'\n",
    "    else: \n",
    "        color = 'blue'\n",
    "    plt.scatter(vals['x'], vals['y'], c=color, alpha=.1, s=80)\n",
    "    offense = not offense"
   ]
  },
  {
   "cell_type": "code",
   "execution_count": null,
   "metadata": {},
   "outputs": [],
   "source": []
  }
 ],
 "metadata": {
  "kernelspec": {
   "display_name": "Python 3",
   "language": "python",
   "name": "python3"
  },
  "language_info": {
   "codemirror_mode": {
    "name": "ipython",
    "version": 3
   },
   "file_extension": ".py",
   "mimetype": "text/x-python",
   "name": "python",
   "nbconvert_exporter": "python",
   "pygments_lexer": "ipython3",
   "version": "3.7.6"
  }
 },
 "nbformat": 4,
 "nbformat_minor": 4
}
