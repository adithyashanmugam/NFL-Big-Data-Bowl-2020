{
 "cells": [
  {
   "cell_type": "code",
   "execution_count": 38,
   "metadata": {},
   "outputs": [],
   "source": [
    "import pandas as pd\n",
    "import numpy as np\n",
    "import itertools as it\n",
    "import matplotlib.pyplot as plt\n",
    "from scipy import stats\n",
    "from collections import defaultdict\n",
    "import csv\n",
    "from sklearn.model_selection import train_test_split, cross_val_score\n",
    "import xgboost as xg \n",
    "from sklearn.metrics import mean_squared_error as MSE \n",
    "from sklearn.ensemble import GradientBoostingRegressor"
   ]
  },
  {
   "cell_type": "code",
   "execution_count": 52,
   "metadata": {},
   "outputs": [],
   "source": [
    "y = pd.read_csv('./intermediate_data/full_data.csv')['yac']\n",
    "X = pd.read_csv('./intermediate_data/nflfull_pca.csv')"
   ]
  },
  {
   "cell_type": "code",
   "execution_count": 53,
   "metadata": {},
   "outputs": [],
   "source": [
    "def meanMSE(X, y):\n",
    "    mse_list = []\n",
    "    for _ in range(5):\n",
    "        train_X, test_X, train_y, test_y = train_test_split(X, y, \n",
    "                          test_size = 0.2) \n",
    "        xgb_r = xg.XGBRegressor(objective ='reg:squarederror', \n",
    "                      n_estimators = 10, booster='gblinear') \n",
    "        xgb_r.fit(train_X, train_y)\n",
    "        pred = xgb_r.predict(test_X) \n",
    "        rmse = np.sqrt(MSE(test_y, pred)) \n",
    "        mse_list.append(rmse)\n",
    "    return np.mean(mse_list)"
   ]
  },
  {
   "cell_type": "code",
   "execution_count": 54,
   "metadata": {},
   "outputs": [
    {
     "data": {
      "text/plain": [
       "6.324070609537538"
      ]
     },
     "execution_count": 54,
     "metadata": {},
     "output_type": "execute_result"
    }
   ],
   "source": [
    "meanMSE(X, y)"
   ]
  },
  {
   "cell_type": "code",
   "execution_count": null,
   "metadata": {},
   "outputs": [],
   "source": []
  }
 ],
 "metadata": {
  "kernelspec": {
   "display_name": "Python 3",
   "language": "python",
   "name": "python3"
  },
  "language_info": {
   "codemirror_mode": {
    "name": "ipython",
    "version": 3
   },
   "file_extension": ".py",
   "mimetype": "text/x-python",
   "name": "python",
   "nbconvert_exporter": "python",
   "pygments_lexer": "ipython3",
   "version": "3.7.6"
  }
 },
 "nbformat": 4,
 "nbformat_minor": 4
}
