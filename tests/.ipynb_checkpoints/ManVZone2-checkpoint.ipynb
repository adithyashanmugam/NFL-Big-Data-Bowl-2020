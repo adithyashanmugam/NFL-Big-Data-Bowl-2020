{
 "cells": [
  {
   "cell_type": "code",
   "execution_count": null,
   "metadata": {},
   "outputs": [],
   "source": [
    "import pandas as pd\n",
    "import numpy as np\n",
    "import itertools as it\n",
    "import matplotlib.pyplot as plt\n",
    "from scipy import stats\n",
    "from collections import defaultdict"
   ]
  },
  {
   "cell_type": "code",
   "execution_count": null,
   "metadata": {},
   "outputs": [],
   "source": [
    "games = pd.read_csv('./data/games.csv')\n",
    "GAME1 = games.iloc[0].gameId"
   ]
  },
  {
   "cell_type": "code",
   "execution_count": null,
   "metadata": {},
   "outputs": [],
   "source": [
    "plays = pd.read_csv('./data/plays.csv')\n",
    "plays = plays[plays['gameId'] == GAME1]\n",
    "week1 = pd.read_csv('./data/week1.csv')\n",
    "week1 = week1.loc[(week1['gameId'] == GAME1)]"
   ]
  },
  {
   "cell_type": "code",
   "execution_count": null,
   "metadata": {},
   "outputs": [],
   "source": [
    "playIds = pd.unique(plays.playId)    "
   ]
  },
  {
   "cell_type": "code",
   "execution_count": null,
   "metadata": {},
   "outputs": [],
   "source": []
  },
  {
   "cell_type": "code",
   "execution_count": null,
   "metadata": {},
   "outputs": [],
   "source": [
    "for pid in playIds:\n",
    "    current_play = week1[week1['playId'] == pid]\n",
    "    time1 = current_play[current_play['event'] == 'ball_snap'].time.iloc[0]\n",
    "    time2 = current_play[current_play['event'] == 'pass_forward'].time.iloc[0]\n",
    "    current_play = current_play.loc[(current_play['time'] >= time1) & (current_play['time'] <= time2)]\n",
    "    \n",
    "    ball_snap = current_play[current_play['event'] == 'ball_snap']\n",
    "    cbs = ball_snap[ball_snap['position'] == 'CB']\n",
    "    \n",
    "    offensive_team = ball_snap[ball_snap['position'] == 'QB']['team']\n",
    "    print(offensive_team)\n",
    "    input('')\n",
    "    \n",
    "#     pairs = []\n",
    "#     for index, row in cbs.iterrows():\n",
    "        "
   ]
  },
  {
   "cell_type": "code",
   "execution_count": null,
   "metadata": {},
   "outputs": [],
   "source": []
  }
 ],
 "metadata": {
  "kernelspec": {
   "display_name": "Python 3",
   "language": "python",
   "name": "python3"
  },
  "language_info": {
   "codemirror_mode": {
    "name": "ipython",
    "version": 3
   },
   "file_extension": ".py",
   "mimetype": "text/x-python",
   "name": "python",
   "nbconvert_exporter": "python",
   "pygments_lexer": "ipython3",
   "version": "3.7.6"
  }
 },
 "nbformat": 4,
 "nbformat_minor": 4
}
