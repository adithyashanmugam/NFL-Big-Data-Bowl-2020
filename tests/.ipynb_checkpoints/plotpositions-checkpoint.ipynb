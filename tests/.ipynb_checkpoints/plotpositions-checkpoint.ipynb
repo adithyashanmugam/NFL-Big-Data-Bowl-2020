{
 "cells": [
  {
   "cell_type": "code",
   "execution_count": 1,
   "metadata": {},
   "outputs": [],
   "source": [
    "import pandas as pd\n",
    "import numpy as np\n",
    "import matplotlib.pyplot as plt"
   ]
  },
  {
   "cell_type": "code",
   "execution_count": 2,
   "metadata": {},
   "outputs": [],
   "source": [
    "games = pd.read_csv('./data/games.csv')\n",
    "GAME1 = games.iloc[0].gameId"
   ]
  },
  {
   "cell_type": "code",
   "execution_count": 3,
   "metadata": {},
   "outputs": [],
   "source": [
    "week1 = pd.read_csv('./data/week1.csv')\n",
    "plays = pd.read_csv('./data/plays.csv')"
   ]
  },
  {
   "cell_type": "code",
   "execution_count": 4,
   "metadata": {},
   "outputs": [],
   "source": [
    "game1_data = week1[week1['gameId'] == GAME1]"
   ]
  },
  {
   "cell_type": "code",
   "execution_count": 5,
   "metadata": {},
   "outputs": [],
   "source": [
    "PLAY1 = plays.iloc[0].playId\n",
    "first_play = game1_data[game1_data['playId'] == PLAY1]"
   ]
  },
  {
   "cell_type": "code",
   "execution_count": 6,
   "metadata": {},
   "outputs": [],
   "source": [
    "first_play_cornerbacks = first_play[first_play['position'] == 'CB']\n",
    "corners = pd.unique(first_play_cornerbacks['nflId'])"
   ]
  },
  {
   "cell_type": "code",
   "execution_count": 7,
   "metadata": {},
   "outputs": [],
   "source": [
    "corner1 = first_play_cornerbacks[first_play_cornerbacks['nflId'] == corners[0]]\n",
    "corner2 = first_play_cornerbacks[first_play_cornerbacks['nflId'] == corners[1]]"
   ]
  },
  {
   "cell_type": "code",
   "execution_count": 8,
   "metadata": {},
   "outputs": [],
   "source": [
    "freq = np.zeros((120, 54))\n",
    "xs1 = []\n",
    "ys1 = []\n",
    "xs2 = []\n",
    "ys2 = []"
   ]
  },
  {
   "cell_type": "code",
   "execution_count": 9,
   "metadata": {},
   "outputs": [
    {
     "name": "stdout",
     "output_type": "stream",
     "text": [
      "Offense moving  left\n"
     ]
    },
    {
     "data": {
      "image/png": "[encoded data removed]",
      "text/plain": [
       "<Figure size 432x288 with 1 Axes>"
      ]
     },
     "metadata": {
      "needs_background": "light"
     },
     "output_type": "display_data"
    }
   ],
   "source": [
    "firstXs = [corner1.iloc[0]['x'], corner2.iloc[0]['x']]\n",
    "firstYs = [corner1.iloc[0]['y'], corner2.iloc[0]['y']]\n",
    "for index, row in corner1.iterrows():\n",
    "    x = int(np.floor(row.x))\n",
    "    y = int(np.floor(row.y))\n",
    "    freq[x][y] += 1\n",
    "    xs1.append(x)\n",
    "    ys1.append(y)\n",
    "for index, row in corner2.iterrows():\n",
    "    x = int(np.floor(row.x))\n",
    "    y = int(np.floor(row.y))\n",
    "    freq[x][y] += 1\n",
    "    xs2.append(x)\n",
    "    ys2.append(y)\n",
    "ax1 = plt.subplot(131)\n",
    "ax1.scatter(xs1, ys1, s=50, c='blue', alpha=.05)\n",
    "ax1.scatter(xs2, ys2, s=50, c='red', alpha=.05)\n",
    "ax1.scatter(firstXs, firstYs, s=60, c='black', alpha=.5)\n",
    "# ax1.set_xlim([0, 120])\n",
    "# ax1.set_ylim([0, 20])\n",
    "print('Offense moving ', corner1.iloc[0]['playDirection'])"
   ]
  },
  {
   "cell_type": "code",
   "execution_count": 15,
   "metadata": {},
   "outputs": [
    {
     "data": {
      "image/png": "[encoded data removed]",
      "text/plain": [
       "<Figure size 432x288 with 1 Axes>"
      ]
     },
     "metadata": {
      "needs_background": "light"
     },
     "output_type": "display_data"
    }
   ],
   "source": [
    "time1 = first_play[first_play['time'] == first_play.iloc[0]['time']]\n",
    "time1 = time1\n",
    "xys = []\n",
    "# ys = []\n",
    "xs_away = []\n",
    "xs_home = []\n",
    "ys_away = []\n",
    "ys_home = []\n",
    "labels = []\n",
    "for index, row in time1.iterrows():\n",
    "    labels.append(row.displayName)\n",
    "    xy.append((row.x, row.y))\n",
    "    if row.team == 'away':\n",
    "        xs_away.append(row.x)\n",
    "        ys_away.append(row.y)\n",
    "    else:\n",
    "        xs_home.append(row.x)\n",
    "        ys_home.append(row.y)\n",
    "plt.scatter(xs_home, ys_home, s=50, c='blue', alpha=.5)\n",
    "plt.scatter(xs_away, ys_away, s=50, c='red', alpha=.5)\n",
    "for i in range(len(xys)):\n",
    "    print(labels[i])\n",
    "    plt.annotate(labels[i], xys[i], textcoords='offset points', xytext=(0,10), ha='center')"
   ]
  },
  {
   "cell_type": "code",
   "execution_count": null,
   "metadata": {},
   "outputs": [],
   "source": []
  }
 ],
 "metadata": {
  "kernelspec": {
   "display_name": "Python 3",
   "language": "python",
   "name": "python3"
  },
  "language_info": {
   "codemirror_mode": {
    "name": "ipython",
    "version": 3
   },
   "file_extension": ".py",
   "mimetype": "text/x-python",
   "name": "python",
   "nbconvert_exporter": "python",
   "pygments_lexer": "ipython3",
   "version": "3.7.6"
  }
 },
 "nbformat": 4,
 "nbformat_minor": 4
}
