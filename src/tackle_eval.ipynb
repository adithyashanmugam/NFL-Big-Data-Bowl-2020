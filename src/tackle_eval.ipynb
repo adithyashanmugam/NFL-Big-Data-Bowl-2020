{
 "cells": [
  {
   "cell_type": "code",
   "execution_count": 1,
   "metadata": {},
   "outputs": [],
   "source": [
    "import pandas as pd\n",
    "import numpy as np\n",
    "import itertools as it\n",
    "import matplotlib.pyplot as plt\n",
    "from scipy import stats\n",
    "from collections import defaultdict\n",
    "import csv\n",
    "import seaborn as sns"
   ]
  },
  {
   "cell_type": "code",
   "execution_count": 2,
   "metadata": {},
   "outputs": [],
   "source": [
    "players = pd.read_csv('./data/players.csv')\n",
    "games = pd.read_csv('./data/games.csv')\n",
    "plays = pd.read_csv('./data/plays.csv')"
   ]
  },
  {
   "cell_type": "code",
   "execution_count": 3,
   "metadata": {},
   "outputs": [],
   "source": [
    "def mapIdToName(id):\n",
    "    return players[players['nflId'] == id].iloc[0].displayName"
   ]
  },
  {
   "cell_type": "code",
   "execution_count": 4,
   "metadata": {},
   "outputs": [],
   "source": [
    "def getClosest(players, football):\n",
    "    distances = []\n",
    "    for index, row in players.iterrows():\n",
    "        distance = np.linalg.norm(np.subtract([football.x.values[0], football.y.values[0]], [row.x, row.y]))\n",
    "        distances.append((row.nflId, distance))\n",
    "    closest = sorted(distances, key= lambda t: t[1])[0][0]\n",
    "    return closest"
   ]
  },
  {
   "cell_type": "code",
   "execution_count": 5,
   "metadata": {},
   "outputs": [],
   "source": [
    "tackle_acc = defaultdict(list)\n",
    "total_tackles = defaultdict(int)"
   ]
  },
  {
   "cell_type": "code",
   "execution_count": 6,
   "metadata": {},
   "outputs": [
    {
     "name": "stdout",
     "output_type": "stream",
     "text": [
      "1\n",
      "2\n",
      "3\n",
      "4\n",
      "5\n",
      "6\n",
      "7\n",
      "8\n",
      "9\n",
      "10\n",
      "11\n",
      "12\n",
      "13\n",
      "14\n",
      "15\n",
      "16\n",
      "17\n"
     ]
    }
   ],
   "source": [
    "for week_num in range(1, 18):\n",
    "    print(week_num)\n",
    "    g_week = games[games['week'] == week_num]\n",
    "    week_str = './data/week' + str(week_num) + '.csv'\n",
    "    current_week_data = pd.read_csv(week_str)\n",
    "    \n",
    "    for _, g_row in g_week.iterrows():\n",
    "        GAMEID = g_row.gameId\n",
    "        cwg_data = current_week_data[current_week_data['gameId'] == GAMEID]\n",
    "        pg = plays[plays['gameId'] == GAMEID]\n",
    "        \n",
    "        for PLAY in pg.playId:\n",
    "            curr_play_data = cwg_data[cwg_data['playId'] == PLAY]\n",
    "            try:\n",
    "                OFFENSIVE_TEAM = curr_play_data[curr_play_data['position'] == 'QB'].team.values[0]\n",
    "                DEFENSIVE_TEAM = ('home' if OFFENSIVE_TEAM == 'away' else 'away')\n",
    "            except:\n",
    "                continue\n",
    "\n",
    "            play_events = pd.unique(curr_play_data.event)\n",
    "            if 'first_contact' in play_events:\n",
    "\n",
    "                first_contact_data = curr_play_data[curr_play_data['event'] == 'first_contact']\n",
    "                football1 = first_contact_data[first_contact_data['team'] == 'football']\n",
    "                defensive_players = first_contact_data[first_contact_data['team'] == DEFENSIVE_TEAM]\n",
    "                try:\n",
    "                    closest1 = getClosest(defensive_players, football1)\n",
    "                except:\n",
    "                    continue\n",
    "\n",
    "                if 'tackle' in play_events:\n",
    "\n",
    "                    tackle_data = curr_play_data[curr_play_data['event'] == 'tackle']\n",
    "                    football2 = tackle_data[tackle_data['team'] == 'football']\n",
    "                    defensive_players = tackle_data[tackle_data['team'] == DEFENSIVE_TEAM]\n",
    "                    closest2 = getClosest(defensive_players, football2)\n",
    "\n",
    "                    tackle_acc[closest1].append(1 if closest1 == closest2 else 0)\n",
    "                    total_tackles[closest2] += 1\n",
    "\n",
    "                elif 'out_of_bounds' in play_events:\n",
    "\n",
    "                    out_of_bounds_data = curr_play_data[curr_play_data['event'] == 'out_of_bounds']\n",
    "                    football2 = out_of_bounds_data[out_of_bounds_data['team'] == 'football']\n",
    "                    defensive_players = out_of_bounds_data[out_of_bounds_data['team'] == DEFENSIVE_TEAM]\n",
    "                    closest2 = getClosest(defensive_players, football2)\n",
    "\n",
    "                    dif = np.abs(football2.x.values[0] - football1.x.values[0])\n",
    "                    if closest1 == closest2 and dif < 3:\n",
    "                        tackle_acc[closest1].append(1)\n",
    "                        total_tackles[closest1] += 1\n",
    "                    else:\n",
    "                        tackle_acc[closest1].append(0)\n",
    "\n",
    "                else:\n",
    "                    continue\n",
    "                    \n",
    "\n"
   ]
  },
  {
   "cell_type": "code",
   "execution_count": 7,
   "metadata": {},
   "outputs": [
    {
     "data": {
      "text/plain": [
       "[('Jaire Alexander', 0.8571428571428571),\n",
       " ('Chris Harris', 0.8518518518518519),\n",
       " ('Darius Slay', 0.8260869565217391),\n",
       " ('Zach Brown', 0.7916666666666666),\n",
       " ('Bradley McDougald', 0.7619047619047619),\n",
       " ('Myles Jack', 0.75),\n",
       " ('Vonn Bell', 0.75),\n",
       " ('Rasul Douglas', 0.75),\n",
       " ('Justin Simmons', 0.7428571428571429),\n",
       " ('Antoine Bethea', 0.7419354838709677),\n",
       " ('B.W. Webb', 0.7368421052631579),\n",
       " ('Marcus Peters', 0.7307692307692307),\n",
       " ('Reshad Jones', 0.72),\n",
       " ('D.J. Hayden', 0.72),\n",
       " ('Robert Alford', 0.7142857142857143),\n",
       " ('Jalen Ramsey', 0.7142857142857143),\n",
       " ('Trumaine Johnson', 0.7096774193548387),\n",
       " ('Mike Hilton', 0.7083333333333334),\n",
       " ('Leighton Vander Esch', 0.7083333333333334),\n",
       " ('Cory Littleton', 0.7037037037037037),\n",
       " ('Darron Lee', 0.6956521739130435),\n",
       " ('Avery Williamson', 0.6923076923076923),\n",
       " ('Roquan Smith', 0.6875),\n",
       " ('Demario Davis', 0.6857142857142857),\n",
       " (\"De'Vondre Campbell\", 0.6842105263157895),\n",
       " ('Anthony Walker', 0.6842105263157895),\n",
       " ('Eric Weddle', 0.6842105263157895),\n",
       " ('Minkah Fitzpatrick', 0.6818181818181818),\n",
       " ('Captain Munnerlyn', 0.6818181818181818),\n",
       " (\"Adoree' Jackson\", 0.68),\n",
       " ('Nevin Lawson', 0.68),\n",
       " ('Desmond Trufant', 0.6666666666666666),\n",
       " ('Stephon Gilmore', 0.6666666666666666),\n",
       " ('Devin McCourty', 0.6666666666666666),\n",
       " ('A.J. Bouye', 0.6666666666666666),\n",
       " ('Adrian Amos', 0.6666666666666666),\n",
       " ('Xavier Rhodes', 0.6666666666666666),\n",
       " ('Steven Nelson', 0.6666666666666666),\n",
       " ('Anthony Hitchens', 0.6666666666666666),\n",
       " ('Ahkello Witherspoon', 0.6666666666666666),\n",
       " ('Jason McCourty', 0.6666666666666666),\n",
       " ('Malcolm Butler', 0.6551724137931034),\n",
       " ('Jeff Heath', 0.6470588235294118),\n",
       " ('Chidobe Awuzie', 0.6451612903225806),\n",
       " ('Denzel Ward', 0.64),\n",
       " ('Prince Amukamara', 0.64),\n",
       " ('Ronald Darby', 0.6363636363636364),\n",
       " ('Kwon Alexander', 0.6363636363636364),\n",
       " (\"Tre'Davious White\", 0.6363636363636364),\n",
       " ('T.J. Carrie', 0.6333333333333333)]"
      ]
     },
     "execution_count": 7,
     "metadata": {},
     "output_type": "execute_result"
    }
   ],
   "source": [
    "tackle_acc_r = {k: np.sum(v) / len(v) for k,v in tackle_acc.items() if len(v) > 17}\n",
    "readable_dict = {mapIdToName(k): v for k,v in tackle_acc_r.items()}\n",
    "sorted(readable_dict.items(), key=lambda t: t[1], reverse=True)[:50]"
   ]
  },
  {
   "cell_type": "code",
   "execution_count": 8,
   "metadata": {},
   "outputs": [],
   "source": [
    "with open('tackle_acc.csv', 'w') as csv_file:\n",
    "    writer = csv.writer(csv_file)\n",
    "    writer.writerow(['nflId', 'score'])\n",
    "    for key, value in tackle_acc_r.items():\n",
    "       writer.writerow([key, value])"
   ]
  },
  {
   "cell_type": "code",
   "execution_count": 27,
   "metadata": {},
   "outputs": [],
   "source": [
    "MAX_TACKLES = max(total_tackles.values())\n",
    "tackle_acc_t = {k: (np.sum(v) / len(v)) * (total_tackles.get(k, 0) / MAX_TACKLES) for k,v in tackle_acc.items()}\n",
    "readable_dict = {mapIdToName(k): v for k,v in tackle_acc_t.items()}\n",
    "best_tacklers = sorted(readable_dict.items(), key=lambda t: t[1], reverse=True)[:15]"
   ]
  },
  {
   "cell_type": "code",
   "execution_count": 10,
   "metadata": {},
   "outputs": [],
   "source": [
    "with open('tackle_acc_and_totals.csv', 'w') as csv_file:  \n",
    "    writer = csv.writer(csv_file)\n",
    "    writer.writerow(['nflId', 'score'])\n",
    "    for key, value in tackle_acc_t.items():\n",
    "       writer.writerow([key, value])"
   ]
  },
  {
   "cell_type": "code",
   "execution_count": 28,
   "metadata": {},
   "outputs": [],
   "source": [
    "bt = {}\n",
    "for t in best_tacklers:\n",
    "    bt[t[0]] = t[1]\n",
    "df = pd.DataFrame.from_dict(bt, orient='index')\n",
    "df.reset_index(level=0, inplace=True)\n",
    "df = df.rename(columns={\"index\": \"name\", 0: \"score\"})"
   ]
  },
  {
   "cell_type": "code",
   "execution_count": 34,
   "metadata": {},
   "outputs": [
    {
     "data": {
      "image/png": "[encoded data removed]",
      "text/plain": [
       "<Figure size 432x288 with 1 Axes>"
      ]
     },
     "metadata": {},
     "output_type": "display_data"
    }
   ],
   "source": [
    "sns.set_theme(style='darkgrid')\n",
    "ax = sns.barplot(x='score', y='name', data=df)\n",
    "ax.figure.tight_layout()\n",
    "ax.figure.savefig('tackle_graph.png')"
   ]
  },
  {
   "cell_type": "code",
   "execution_count": null,
   "metadata": {},
   "outputs": [],
   "source": []
  },
  {
   "cell_type": "code",
   "execution_count": null,
   "metadata": {},
   "outputs": [],
   "source": []
  }
 ],
 "metadata": {
  "kernelspec": {
   "display_name": "Python 3",
   "language": "python",
   "name": "python3"
  },
  "language_info": {
   "codemirror_mode": {
    "name": "ipython",
    "version": 3
   },
   "file_extension": ".py",
   "mimetype": "text/x-python",
   "name": "python",
   "nbconvert_exporter": "python",
   "pygments_lexer": "ipython3",
   "version": "3.7.6"
  }
 },
 "nbformat": 4,
 "nbformat_minor": 4
}
