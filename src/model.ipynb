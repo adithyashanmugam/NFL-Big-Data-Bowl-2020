{
 "cells": [
  {
   "cell_type": "code",
   "execution_count": 6,
   "metadata": {},
   "outputs": [],
   "source": [
    "import pandas as pd\n",
    "import numpy as np\n",
    "import itertools as it\n",
    "import matplotlib.pyplot as plt\n",
    "from scipy import stats\n",
    "from collections import defaultdict\n",
    "import csv\n",
    "from sklearn.model_selection import train_test_split, cross_val_score\n",
    "import xgboost as xg \n",
    "from sklearn.metrics import mean_squared_error as MSE \n",
    "from sklearn.ensemble import GradientBoostingRegressor"
   ]
  },
  {
   "cell_type": "code",
   "execution_count": 11,
   "metadata": {},
   "outputs": [
    {
     "data": {
      "text/html": [
       "<div>\n",
       "<style scoped>\n",
       "    .dataframe tbody tr th:only-of-type {\n",
       "        vertical-align: middle;\n",
       "    }\n",
       "\n",
       "    .dataframe tbody tr th {\n",
       "        vertical-align: top;\n",
       "    }\n",
       "\n",
       "    .dataframe thead th {\n",
       "        text-align: right;\n",
       "    }\n",
       "</style>\n",
       "<table border=\"1\" class=\"dataframe\">\n",
       "  <thead>\n",
       "    <tr style=\"text-align: right;\">\n",
       "      <th></th>\n",
       "      <th>play_score</th>\n",
       "      <th>receiver_score</th>\n",
       "      <th>tacklers_agg</th>\n",
       "      <th>closest_distance</th>\n",
       "      <th>closest_score</th>\n",
       "    </tr>\n",
       "  </thead>\n",
       "  <tbody>\n",
       "    <tr>\n",
       "      <th>0</th>\n",
       "      <td>7.313276</td>\n",
       "      <td>1.919284</td>\n",
       "      <td>0.221131</td>\n",
       "      <td>1.081712</td>\n",
       "      <td>0.217544</td>\n",
       "    </tr>\n",
       "    <tr>\n",
       "      <th>1</th>\n",
       "      <td>4.240691</td>\n",
       "      <td>1.919284</td>\n",
       "      <td>0.446604</td>\n",
       "      <td>0.523927</td>\n",
       "      <td>0.212121</td>\n",
       "    </tr>\n",
       "    <tr>\n",
       "      <th>2</th>\n",
       "      <td>6.746975</td>\n",
       "      <td>1.919284</td>\n",
       "      <td>0.477208</td>\n",
       "      <td>0.445982</td>\n",
       "      <td>0.212121</td>\n",
       "    </tr>\n",
       "    <tr>\n",
       "      <th>3</th>\n",
       "      <td>11.287362</td>\n",
       "      <td>1.919284</td>\n",
       "      <td>0.096909</td>\n",
       "      <td>1.287362</td>\n",
       "      <td>0.124756</td>\n",
       "    </tr>\n",
       "    <tr>\n",
       "      <th>4</th>\n",
       "      <td>11.371313</td>\n",
       "      <td>1.919284</td>\n",
       "      <td>0.154685</td>\n",
       "      <td>1.371313</td>\n",
       "      <td>0.212121</td>\n",
       "    </tr>\n",
       "    <tr>\n",
       "      <th>...</th>\n",
       "      <td>...</td>\n",
       "      <td>...</td>\n",
       "      <td>...</td>\n",
       "      <td>...</td>\n",
       "      <td>...</td>\n",
       "    </tr>\n",
       "    <tr>\n",
       "      <th>10832</th>\n",
       "      <td>7.149193</td>\n",
       "      <td>0.003974</td>\n",
       "      <td>0.215494</td>\n",
       "      <td>1.989296</td>\n",
       "      <td>0.368421</td>\n",
       "    </tr>\n",
       "    <tr>\n",
       "      <th>10833</th>\n",
       "      <td>5.799252</td>\n",
       "      <td>0.000000</td>\n",
       "      <td>0.144413</td>\n",
       "      <td>1.450862</td>\n",
       "      <td>0.209524</td>\n",
       "    </tr>\n",
       "    <tr>\n",
       "      <th>10834</th>\n",
       "      <td>17.801641</td>\n",
       "      <td>0.005769</td>\n",
       "      <td>0.015477</td>\n",
       "      <td>7.801641</td>\n",
       "      <td>0.120743</td>\n",
       "    </tr>\n",
       "    <tr>\n",
       "      <th>10835</th>\n",
       "      <td>-2.303939</td>\n",
       "      <td>0.055128</td>\n",
       "      <td>0.238657</td>\n",
       "      <td>1.743932</td>\n",
       "      <td>0.129555</td>\n",
       "    </tr>\n",
       "    <tr>\n",
       "      <th>10836</th>\n",
       "      <td>13.647821</td>\n",
       "      <td>0.024231</td>\n",
       "      <td>0.018551</td>\n",
       "      <td>3.647821</td>\n",
       "      <td>0.067669</td>\n",
       "    </tr>\n",
       "  </tbody>\n",
       "</table>\n",
       "<p>10837 rows × 5 columns</p>\n",
       "</div>"
      ],
      "text/plain": [
       "       play_score  receiver_score  tacklers_agg  closest_distance  \\\n",
       "0        7.313276        1.919284      0.221131          1.081712   \n",
       "1        4.240691        1.919284      0.446604          0.523927   \n",
       "2        6.746975        1.919284      0.477208          0.445982   \n",
       "3       11.287362        1.919284      0.096909          1.287362   \n",
       "4       11.371313        1.919284      0.154685          1.371313   \n",
       "...           ...             ...           ...               ...   \n",
       "10832    7.149193        0.003974      0.215494          1.989296   \n",
       "10833    5.799252        0.000000      0.144413          1.450862   \n",
       "10834   17.801641        0.005769      0.015477          7.801641   \n",
       "10835   -2.303939        0.055128      0.238657          1.743932   \n",
       "10836   13.647821        0.024231      0.018551          3.647821   \n",
       "\n",
       "       closest_score  \n",
       "0           0.217544  \n",
       "1           0.212121  \n",
       "2           0.212121  \n",
       "3           0.124756  \n",
       "4           0.212121  \n",
       "...              ...  \n",
       "10832       0.368421  \n",
       "10833       0.209524  \n",
       "10834       0.120743  \n",
       "10835       0.129555  \n",
       "10836       0.067669  \n",
       "\n",
       "[10837 rows x 5 columns]"
      ]
     },
     "execution_count": 11,
     "metadata": {},
     "output_type": "execute_result"
    }
   ],
   "source": [
    "df = pd.read_csv('../intermediate_data/full_data.csv')\n",
    "X, y = df.iloc[:, 2:-1], df.iloc[:, -1] \n",
    "X"
   ]
  },
  {
   "cell_type": "code",
   "execution_count": 411,
   "metadata": {},
   "outputs": [],
   "source": [
    "def meanMSE(X, y):\n",
    "    mse_list = []\n",
    "    for _ in range(5):\n",
    "        train_X, test_X, train_y, test_y = train_test_split(X, y, \n",
    "                          test_size = 0.2) \n",
    "        xgb_r = xg.XGBRegressor(objective ='reg:squarederror', \n",
    "                      n_estimators = 10, booster='gbtree') \n",
    "        xgb_r.fit(train_X, train_y)\n",
    "        pred = xgb_r.predict(test_X) \n",
    "        rmse = np.sqrt(MSE(test_y, pred)) \n",
    "        mse_list.append(rmse)\n",
    "    return np.mean(mse_list)"
   ]
  },
  {
   "cell_type": "code",
   "execution_count": 412,
   "metadata": {},
   "outputs": [
    {
     "data": {
      "text/plain": [
       "6.4236678158109894"
      ]
     },
     "execution_count": 412,
     "metadata": {},
     "output_type": "execute_result"
    }
   ],
   "source": [
    "meanMSE(X, y)"
   ]
  },
  {
   "cell_type": "code",
   "execution_count": 12,
   "metadata": {},
   "outputs": [],
   "source": [
    "X, y = df.iloc[:, 2:-1], df.iloc[:, -1] \n",
    "train_X, test_X, train_y, test_y = train_test_split(X, y, \n",
    "                      test_size = 0.2) "
   ]
  },
  {
   "cell_type": "code",
   "execution_count": 13,
   "metadata": {},
   "outputs": [
    {
     "name": "stdout",
     "output_type": "stream",
     "text": [
      "RMSE :  3.985814\n"
     ]
    }
   ],
   "source": [
    "# Instantiation \n",
    "# xgtrain = xg.DMatrix(train_X.values, train_y.values)\n",
    "# xgtest = xg.DMatrix(test_X.values)\n",
    "xgb_r = xg.XGBRegressor(objective ='reg:squarederror', \n",
    "                  n_estimators = 100, booster='gbtree') \n",
    "  \n",
    "# Fitting the model \n",
    "xgb_r.fit(X, y) \n",
    "  \n",
    "# Predict the model \n",
    "pred = xgb_r.predict(X) \n",
    "  \n",
    "# # RMSE Computation \n",
    "rmse = np.sqrt(MSE(y, pred)) \n",
    "print(\"RMSE : % f\" %(rmse)) \n",
    "# print(xgb_r.score(test_X, test_y))\n",
    "\n",
    "# cross_val_scores = cross_val_score(xgb_r, test_X, test_y, cv=5)\n",
    "# cross_val_scores"
   ]
  },
  {
   "cell_type": "code",
   "execution_count": 14,
   "metadata": {},
   "outputs": [],
   "source": [
    "pd.DataFrame(pred).to_csv(\"../predicted_yac.csv\", index=False)"
   ]
  },
  {
   "cell_type": "code",
   "execution_count": null,
   "metadata": {},
   "outputs": [],
   "source": [
    "reg = GradientBoostingRegressor()\n",
    "reg.fit(X, y)\n",
    "pred = reg.predict(X)\n",
    "rmse = np.sqrt(MSE(y, pred)) \n",
    "print(\"RMSE : % f\" %(rmse))"
   ]
  },
  {
   "cell_type": "code",
   "execution_count": null,
   "metadata": {},
   "outputs": [],
   "source": [
    "pd.DataFrame(pred).to_csv(\"file.csv\", index=False)"
   ]
  },
  {
   "cell_type": "code",
   "execution_count": null,
   "metadata": {},
   "outputs": [],
   "source": []
  }
 ],
 "metadata": {
  "kernelspec": {
   "display_name": "Python 3",
   "language": "python",
   "name": "python3"
  },
  "language_info": {
   "codemirror_mode": {
    "name": "ipython",
    "version": 3
   },
   "file_extension": ".py",
   "mimetype": "text/x-python",
   "name": "python",
   "nbconvert_exporter": "python",
   "pygments_lexer": "ipython3",
   "version": "3.7.6"
  }
 },
 "nbformat": 4,
 "nbformat_minor": 4
}
