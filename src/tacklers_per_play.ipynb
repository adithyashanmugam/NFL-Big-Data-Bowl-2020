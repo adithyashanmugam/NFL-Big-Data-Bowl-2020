{
 "cells": [
  {
   "cell_type": "code",
   "execution_count": 1,
   "metadata": {},
   "outputs": [],
   "source": [
    "import pandas as pd\n",
    "import numpy as np\n",
    "import itertools as it\n",
    "import matplotlib.pyplot as plt\n",
    "from scipy import stats\n",
    "from collections import defaultdict\n",
    "import csv"
   ]
  },
  {
   "cell_type": "code",
   "execution_count": 18,
   "metadata": {},
   "outputs": [],
   "source": [
    "players = pd.read_csv('./data/players.csv')\n",
    "games = pd.read_csv('./data/games.csv')\n",
    "plays = pd.read_csv('./data/plays.csv')\n",
    "tackle_scores = pd.read_csv('./intermediate_data/tackle_acc_and_totals.csv')\n",
    "AVG_TACKLE_SCORE = np.average(tackle_scores.score)"
   ]
  },
  {
   "cell_type": "code",
   "execution_count": 11,
   "metadata": {},
   "outputs": [],
   "source": [
    "def getClosest(players, football):\n",
    "    distances = []\n",
    "    for index, row in players.iterrows():\n",
    "        distance = np.linalg.norm(np.subtract([football.x.values[0], football.y.values[0]], [row.x, row.y]))\n",
    "        distances.append((row.nflId, distance))\n",
    "    closest = sorted(distances, key= lambda t: t[1])[0][0]\n",
    "    return closest"
   ]
  },
  {
   "cell_type": "code",
   "execution_count": 23,
   "metadata": {},
   "outputs": [
    {
     "name": "stdout",
     "output_type": "stream",
     "text": [
      "1\n",
      "2\n",
      "3\n",
      "4\n",
      "5\n",
      "6\n",
      "7\n",
      "8\n",
      "9\n",
      "10\n",
      "11\n",
      "12\n",
      "13\n",
      "14\n",
      "15\n",
      "16\n",
      "17\n"
     ]
    }
   ],
   "source": [
    "play_tackler_scores = defaultdict(dict)\n",
    "for week_num in range(1, 18):\n",
    "    print(week_num)\n",
    "    g_week = games[games['week'] == week_num]\n",
    "    week_str = './data/week' + str(week_num) + '.csv'\n",
    "    current_week_data = pd.read_csv(week_str)\n",
    "    \n",
    "    for _, g_row in g_week.iterrows():\n",
    "        GAMEID = g_row.gameId\n",
    "        cwg_data = current_week_data[current_week_data['gameId'] == GAMEID]\n",
    "        pg = plays[plays['gameId'] == GAMEID]\n",
    "        \n",
    "        for _, p_row in pg.iterrows():\n",
    "            \n",
    "            if p_row.passResult == 'C':\n",
    "                PLAYID = p_row.playId\n",
    "                curr_play_data = cwg_data[cwg_data['playId'] == PLAYID]\n",
    "                \n",
    "                play_events = pd.unique(curr_play_data.event)                     \n",
    "                if 'pass_outcome_caught' in play_events:\n",
    "                    try:\n",
    "                        OFFENSIVE_TEAM = curr_play_data[curr_play_data['position'] == 'QB'].team.values[0]\n",
    "                        DEFENSIVE_TEAM = ('home' if OFFENSIVE_TEAM == 'away' else 'away')\n",
    "                    except:\n",
    "                        continue\n",
    "                    \n",
    "                    pc_data = curr_play_data[curr_play_data['event'] == 'pass_outcome_caught']\n",
    "                    football1 = pc_data[pc_data['team'] == 'football']\n",
    "                    offensive_players = pc_data[pc_data['team'] == OFFENSIVE_TEAM]\n",
    "                    defensive_players = pc_data[pc_data['team'] == DEFENSIVE_TEAM]\n",
    "                    try:\n",
    "                        closest1 = getClosest(offensive_players, football1)\n",
    "                    except:\n",
    "                        continue\n",
    "                        \n",
    "                    receiver = pc_data[pc_data['nflId'] == closest1]\n",
    "                    rec_x = receiver.x.values[0]\n",
    "                    rec_y = receiver.y.values[0]\n",
    "\n",
    "                    defendersCloseCaught = {}\n",
    "                    for _, row in defensive_players.iterrows():\n",
    "                        def_x = row.x\n",
    "                        def_y = row.y\n",
    "                        dist = np.linalg.norm(np.subtract([rec_x, rec_y], [def_x, def_y]))\n",
    "                        if dist <= 10:\n",
    "                            defendersCloseCaught[row.nflId] = dist\n",
    "                    \n",
    "                    tackler_score = 0\n",
    "#                     print(defendersCloseCaught)\n",
    "                    for nflId, dist in defendersCloseCaught.items():\n",
    "                        if nflId in list(tackle_scores.nflId):\n",
    "                            t_sc = tackle_scores[tackle_scores['nflId'] == nflId].score.values[0]\n",
    "                        else:\n",
    "                            t_sc = AVG_TACKLE_SCORE\n",
    "                        tackler_score += (1 / dist) * (t_sc)\n",
    "                    \n",
    "                    play_tackler_scores[GAMEID][PLAYID] = tackler_score"
   ]
  },
  {
   "cell_type": "code",
   "execution_count": 24,
   "metadata": {},
   "outputs": [],
   "source": [
    "with open('./intermediate_data/tacklers_per_play.csv', 'w') as csv_file:  \n",
    "    writer = csv.writer(csv_file)\n",
    "    writer.writerow(['gameId', 'playId', 'tacklers_agg'])\n",
    "    for GAME in play_tackler_scores:\n",
    "        for PLAY, val in play_tackler_scores[GAME].items():\n",
    "            writer.writerow([GAME, PLAY, val])"
   ]
  },
  {
   "cell_type": "code",
   "execution_count": null,
   "metadata": {},
   "outputs": [],
   "source": []
  }
 ],
 "metadata": {
  "kernelspec": {
   "display_name": "Python 3",
   "language": "python",
   "name": "python3"
  },
  "language_info": {
   "codemirror_mode": {
    "name": "ipython",
    "version": 3
   },
   "file_extension": ".py",
   "mimetype": "text/x-python",
   "name": "python",
   "nbconvert_exporter": "python",
   "pygments_lexer": "ipython3",
   "version": "3.7.6"
  }
 },
 "nbformat": 4,
 "nbformat_minor": 4
}
