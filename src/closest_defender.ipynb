{
 "cells": [
  {
   "cell_type": "code",
   "execution_count": 1,
   "metadata": {},
   "outputs": [],
   "source": [
    "import pandas as pd\n",
    "import numpy as np\n",
    "import itertools as it\n",
    "import matplotlib.pyplot as plt\n",
    "from scipy import stats\n",
    "from collections import defaultdict\n",
    "import csv"
   ]
  },
  {
   "cell_type": "code",
   "execution_count": 13,
   "metadata": {},
   "outputs": [
    {
     "data": {
      "text/plain": [
       "0.11976818934459971"
      ]
     },
     "execution_count": 13,
     "metadata": {},
     "output_type": "execute_result"
    }
   ],
   "source": [
    "players = pd.read_csv('./data/players.csv')\n",
    "games = pd.read_csv('./data/games.csv')\n",
    "plays = pd.read_csv('./data/plays.csv')\n",
    "tackle_scores = pd.read_csv('./intermediate_data/tackle_acc_and_totals.csv')\n",
    "AVG_TACKLE_SCORE = np.average(tackle_scores.score)\n",
    "AVG_TACKLE_SCORE"
   ]
  },
  {
   "cell_type": "code",
   "execution_count": 4,
   "metadata": {},
   "outputs": [],
   "source": [
    "def getClosest(players, football):\n",
    "    distances = []\n",
    "    for index, row in players.iterrows():\n",
    "        distance = np.linalg.norm(np.subtract([football.x.values[0], football.y.values[0]], [row.x, row.y]))\n",
    "        distances.append((row.nflId, distance))\n",
    "    closest_id, closest_dist = sorted(distances, key= lambda t: t[1])[0]\n",
    "    return closest_id, closest_dist"
   ]
  },
  {
   "cell_type": "code",
   "execution_count": 15,
   "metadata": {},
   "outputs": [
    {
     "name": "stdout",
     "output_type": "stream",
     "text": [
      "1\n",
      "2\n",
      "3\n",
      "4\n",
      "5\n",
      "6\n",
      "7\n",
      "8\n",
      "9\n",
      "10\n",
      "11\n",
      "12\n",
      "13\n",
      "14\n",
      "15\n",
      "16\n",
      "17\n"
     ]
    }
   ],
   "source": [
    "closest_defender = defaultdict(dict)\n",
    "for week_num in range(1, 18):\n",
    "    print(week_num)\n",
    "    g_week = games[games['week'] == week_num]\n",
    "    week_str = './data/week' + str(week_num) + '.csv'\n",
    "    current_week_data = pd.read_csv(week_str)\n",
    "    \n",
    "    for _, g_row in g_week.iterrows():\n",
    "        GAMEID = g_row.gameId\n",
    "        cwg_data = current_week_data[current_week_data['gameId'] == GAMEID]\n",
    "        pg = plays[plays['gameId'] == GAMEID]\n",
    "        \n",
    "        for _, p_row in pg.iterrows():\n",
    "            \n",
    "            if p_row.passResult == 'C':\n",
    "                PLAYID = p_row.playId\n",
    "                curr_play_data = cwg_data[cwg_data['playId'] == PLAYID]\n",
    "                \n",
    "                play_events = pd.unique(curr_play_data.event)                     \n",
    "                if 'pass_outcome_caught' in play_events:\n",
    "                    try:\n",
    "                        OFFENSIVE_TEAM = curr_play_data[curr_play_data['position'] == 'QB'].team.values[0]\n",
    "                        DEFENSIVE_TEAM = ('home' if OFFENSIVE_TEAM == 'away' else 'away')\n",
    "                    except:\n",
    "                        continue\n",
    "                    \n",
    "                    pc_data = curr_play_data[curr_play_data['event'] == 'pass_outcome_caught']\n",
    "                    football1 = pc_data[pc_data['team'] == 'football']\n",
    "                    offensive_players = pc_data[pc_data['team'] == OFFENSIVE_TEAM]\n",
    "                    defensive_players = pc_data[pc_data['team'] == DEFENSIVE_TEAM]\n",
    "                    try:\n",
    "                        closest1 = getClosest(offensive_players, football1)[0]\n",
    "                    except:\n",
    "                        continue\n",
    "                        \n",
    "                    receiver = pc_data[pc_data['nflId'] == closest1]\n",
    "                    try:\n",
    "                        closest_id, closest_dist = getClosest(defensive_players, receiver)\n",
    "                    except:\n",
    "                        continue\n",
    "#                     print(closest_id, closest_dist)\n",
    "                    \n",
    "                    if closest_id in list(tackle_scores.nflId):\n",
    "                        t_sc = tackle_scores[tackle_scores['nflId'] == closest_id].score.values[0]\n",
    "                    else:\n",
    "                        t_sc = AVG_TACKLE_SCORE\n",
    "                    \n",
    "                    closest_defender[GAMEID][PLAYID] = (closest_dist, t_sc)"
   ]
  },
  {
   "cell_type": "code",
   "execution_count": 19,
   "metadata": {},
   "outputs": [],
   "source": [
    "with open('./intermediate_data/closest_defender.csv', 'w') as csv_file:  \n",
    "    writer = csv.writer(csv_file)\n",
    "    writer.writerow(['gameId', 'playId', 'closest_distance', 'closest_score'])\n",
    "    for GAME in closest_defender:\n",
    "        for PLAY, val in closest_defender[GAME].items():\n",
    "            writer.writerow([GAME, PLAY, val[0], val[1]])"
   ]
  },
  {
   "cell_type": "code",
   "execution_count": null,
   "metadata": {},
   "outputs": [],
   "source": []
  }
 ],
 "metadata": {
  "kernelspec": {
   "display_name": "Python 3",
   "language": "python",
   "name": "python3"
  },
  "language_info": {
   "codemirror_mode": {
    "name": "ipython",
    "version": 3
   },
   "file_extension": ".py",
   "mimetype": "text/x-python",
   "name": "python",
   "nbconvert_exporter": "python",
   "pygments_lexer": "ipython3",
   "version": "3.7.6"
  }
 },
 "nbformat": 4,
 "nbformat_minor": 4
}
