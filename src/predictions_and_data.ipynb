{
 "cells": [
  {
   "cell_type": "code",
   "execution_count": 7,
   "metadata": {},
   "outputs": [],
   "source": [
    "import pandas as pd\n",
    "import numpy as np"
   ]
  },
  {
   "cell_type": "code",
   "execution_count": 24,
   "metadata": {},
   "outputs": [
    {
     "name": "stderr",
     "output_type": "stream",
     "text": [
      "C:\\Users\\dithu\\anaconda3\\lib\\site-packages\\ipykernel_launcher.py:4: SettingWithCopyWarning: \n",
      "A value is trying to be set on a copy of a slice from a DataFrame.\n",
      "Try using .loc[row_indexer,col_indexer] = value instead\n",
      "\n",
      "See the caveats in the documentation: https://pandas.pydata.org/pandas-docs/stable/user_guide/indexing.html#returning-a-view-versus-a-copy\n",
      "  after removing the cwd from sys.path.\n"
     ]
    },
    {
     "data": {
      "text/html": [
       "<div>\n",
       "<style scoped>\n",
       "    .dataframe tbody tr th:only-of-type {\n",
       "        vertical-align: middle;\n",
       "    }\n",
       "\n",
       "    .dataframe tbody tr th {\n",
       "        vertical-align: top;\n",
       "    }\n",
       "\n",
       "    .dataframe thead th {\n",
       "        text-align: right;\n",
       "    }\n",
       "</style>\n",
       "<table border=\"1\" class=\"dataframe\">\n",
       "  <thead>\n",
       "    <tr style=\"text-align: right;\">\n",
       "      <th></th>\n",
       "      <th>gameId</th>\n",
       "      <th>playId</th>\n",
       "      <th>yac</th>\n",
       "      <th>yac*</th>\n",
       "    </tr>\n",
       "  </thead>\n",
       "  <tbody>\n",
       "    <tr>\n",
       "      <th>0</th>\n",
       "      <td>2018090600</td>\n",
       "      <td>75</td>\n",
       "      <td>1.76</td>\n",
       "      <td>2.185892</td>\n",
       "    </tr>\n",
       "    <tr>\n",
       "      <th>1</th>\n",
       "      <td>2018090600</td>\n",
       "      <td>190</td>\n",
       "      <td>5.57</td>\n",
       "      <td>0.917091</td>\n",
       "    </tr>\n",
       "    <tr>\n",
       "      <th>2</th>\n",
       "      <td>2018090600</td>\n",
       "      <td>1423</td>\n",
       "      <td>0.18</td>\n",
       "      <td>0.696458</td>\n",
       "    </tr>\n",
       "    <tr>\n",
       "      <th>3</th>\n",
       "      <td>2018090600</td>\n",
       "      <td>1869</td>\n",
       "      <td>0.63</td>\n",
       "      <td>5.490612</td>\n",
       "    </tr>\n",
       "    <tr>\n",
       "      <th>4</th>\n",
       "      <td>2018090600</td>\n",
       "      <td>2450</td>\n",
       "      <td>0.00</td>\n",
       "      <td>3.812246</td>\n",
       "    </tr>\n",
       "    <tr>\n",
       "      <th>...</th>\n",
       "      <td>...</td>\n",
       "      <td>...</td>\n",
       "      <td>...</td>\n",
       "      <td>...</td>\n",
       "    </tr>\n",
       "    <tr>\n",
       "      <th>10832</th>\n",
       "      <td>2018123007</td>\n",
       "      <td>2078</td>\n",
       "      <td>2.39</td>\n",
       "      <td>2.050813</td>\n",
       "    </tr>\n",
       "    <tr>\n",
       "      <th>10833</th>\n",
       "      <td>2018123007</td>\n",
       "      <td>3493</td>\n",
       "      <td>0.00</td>\n",
       "      <td>0.983644</td>\n",
       "    </tr>\n",
       "    <tr>\n",
       "      <th>10834</th>\n",
       "      <td>2018123010</td>\n",
       "      <td>1439</td>\n",
       "      <td>3.13</td>\n",
       "      <td>4.457400</td>\n",
       "    </tr>\n",
       "    <tr>\n",
       "      <th>10835</th>\n",
       "      <td>2018123012</td>\n",
       "      <td>3320</td>\n",
       "      <td>5.30</td>\n",
       "      <td>2.031683</td>\n",
       "    </tr>\n",
       "    <tr>\n",
       "      <th>10836</th>\n",
       "      <td>2018123014</td>\n",
       "      <td>4088</td>\n",
       "      <td>5.72</td>\n",
       "      <td>4.123615</td>\n",
       "    </tr>\n",
       "  </tbody>\n",
       "</table>\n",
       "<p>10837 rows × 4 columns</p>\n",
       "</div>"
      ],
      "text/plain": [
       "           gameId  playId   yac      yac*\n",
       "0      2018090600      75  1.76  2.185892\n",
       "1      2018090600     190  5.57  0.917091\n",
       "2      2018090600    1423  0.18  0.696458\n",
       "3      2018090600    1869  0.63  5.490612\n",
       "4      2018090600    2450  0.00  3.812246\n",
       "...           ...     ...   ...       ...\n",
       "10832  2018123007    2078  2.39  2.050813\n",
       "10833  2018123007    3493  0.00  0.983644\n",
       "10834  2018123010    1439  3.13  4.457400\n",
       "10835  2018123012    3320  5.30  2.031683\n",
       "10836  2018123014    4088  5.72  4.123615\n",
       "\n",
       "[10837 rows x 4 columns]"
      ]
     },
     "execution_count": 24,
     "metadata": {},
     "output_type": "execute_result"
    }
   ],
   "source": [
    "full_data = pd.read_csv('../intermediate_data/full_data.csv')\n",
    "yac_predictions = pd.read_csv('../predicted_yac.csv')\n",
    "yac_labels = full_data[['gameId', 'playId', 'yac']]\n",
    "yac_labels['yac*'] = yac_predictions['0']\n",
    "yac_labels"
   ]
  },
  {
   "cell_type": "code",
   "execution_count": 25,
   "metadata": {},
   "outputs": [
    {
     "data": {
      "text/plain": [
       "0        0.425892\n",
       "1       -4.652909\n",
       "2        0.516458\n",
       "3        4.860612\n",
       "4        3.812246\n",
       "           ...   \n",
       "10832   -0.339187\n",
       "10833    0.983644\n",
       "10834    1.327400\n",
       "10835   -3.268317\n",
       "10836   -1.596385\n",
       "Length: 10837, dtype: float64"
      ]
     },
     "execution_count": 25,
     "metadata": {},
     "output_type": "execute_result"
    }
   ],
   "source": []
  },
  {
   "cell_type": "code",
   "execution_count": 27,
   "metadata": {},
   "outputs": [],
   "source": [
    "pd.DataFrame(yac_labels).to_csv(\"../yac_with_predictions.csv\", index=False)"
   ]
  },
  {
   "cell_type": "code",
   "execution_count": null,
   "metadata": {},
   "outputs": [],
   "source": []
  }
 ],
 "metadata": {
  "kernelspec": {
   "display_name": "Python 3",
   "language": "python",
   "name": "python3"
  },
  "language_info": {
   "codemirror_mode": {
    "name": "ipython",
    "version": 3
   },
   "file_extension": ".py",
   "mimetype": "text/x-python",
   "name": "python",
   "nbconvert_exporter": "python",
   "pygments_lexer": "ipython3",
   "version": "3.7.6"
  }
 },
 "nbformat": 4,
 "nbformat_minor": 4
}
