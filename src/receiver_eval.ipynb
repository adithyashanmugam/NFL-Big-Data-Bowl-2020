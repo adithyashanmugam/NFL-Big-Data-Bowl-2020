{
 "cells": [
  {
   "cell_type": "code",
   "execution_count": 2,
   "metadata": {},
   "outputs": [],
   "source": [
    "import pandas as pd\n",
    "import numpy as np\n",
    "import itertools as it\n",
    "import matplotlib.pyplot as plt\n",
    "from scipy import stats\n",
    "from collections import defaultdict\n",
    "import csv\n",
    "import seaborn as sns"
   ]
  },
  {
   "cell_type": "code",
   "execution_count": 3,
   "metadata": {},
   "outputs": [],
   "source": [
    "players = pd.read_csv('./data/players.csv')\n",
    "games = pd.read_csv('./data/games.csv')\n",
    "plays = pd.read_csv('./data/plays.csv')"
   ]
  },
  {
   "cell_type": "code",
   "execution_count": 4,
   "metadata": {},
   "outputs": [],
   "source": [
    "def mapIdToName(id):\n",
    "    return players[players['nflId'] == id].iloc[0].displayName"
   ]
  },
  {
   "cell_type": "code",
   "execution_count": 5,
   "metadata": {},
   "outputs": [],
   "source": [
    "def getClosest(players, football):\n",
    "    distances = []\n",
    "    for index, row in players.iterrows():\n",
    "        distance = np.linalg.norm(np.subtract([football.x.values[0], football.y.values[0]], [row.x, row.y]))\n",
    "        distances.append((row.nflId, distance))\n",
    "    closest = sorted(distances, key= lambda t: t[1])[0][0]\n",
    "    return closest"
   ]
  },
  {
   "cell_type": "code",
   "execution_count": 6,
   "metadata": {},
   "outputs": [],
   "source": [
    "average_yac = defaultdict(list)\n",
    "total_catches = defaultdict(int)"
   ]
  },
  {
   "cell_type": "code",
   "execution_count": 7,
   "metadata": {},
   "outputs": [
    {
     "name": "stdout",
     "output_type": "stream",
     "text": [
      "1\n",
      "2\n",
      "3\n",
      "4\n",
      "5\n",
      "6\n",
      "7\n",
      "8\n",
      "9\n",
      "10\n",
      "11\n",
      "12\n",
      "13\n",
      "14\n",
      "15\n",
      "16\n",
      "17\n"
     ]
    }
   ],
   "source": [
    "for week_num in range(1, 18):\n",
    "    print(week_num)\n",
    "    g_week = games[games['week'] == week_num]\n",
    "    week_str = './data/week' + str(week_num) + '.csv'\n",
    "    current_week_data = pd.read_csv(week_str)\n",
    "    \n",
    "    for _, g_row in g_week.iterrows():\n",
    "        GAMEID = g_row.gameId\n",
    "        cwg_data = current_week_data[current_week_data['gameId'] == GAMEID]\n",
    "        pg = plays[plays['gameId'] == GAMEID]\n",
    "        \n",
    "        for PLAY in pg.playId:\n",
    "            curr_play_data = cwg_data[cwg_data['playId'] == PLAY]\n",
    "            \n",
    "            play_events = pd.unique(curr_play_data.event)\n",
    "            if 'first_contact' in play_events:\n",
    "                try:\n",
    "                    OFFENSIVE_TEAM = curr_play_data[curr_play_data['position'] == 'QB'].team.values[0]\n",
    "                except:\n",
    "                    continue\n",
    "\n",
    "                first_contact_data = curr_play_data[curr_play_data['event'] == 'first_contact']\n",
    "                football1 = first_contact_data[first_contact_data['team'] == 'football']\n",
    "                offensive_players = first_contact_data[first_contact_data['team'] == OFFENSIVE_TEAM]\n",
    "                try:\n",
    "                    closest1 = getClosest(offensive_players, football1)\n",
    "                    total_catches[closest1] += 1\n",
    "                    x1 = offensive_players[offensive_players['nflId'] == closest1].x.values[0]\n",
    "                except:\n",
    "                    continue\n",
    "                \n",
    "                END_EVENT = ''\n",
    "                if 'tackle' in play_events:\n",
    "                    END_EVENT = 'tackle'\n",
    "                elif 'out_of_bounds' in play_events:\n",
    "                    END_EVENT = 'out_of_bounds'\n",
    "                else:\n",
    "                    continue\n",
    "                    \n",
    "                end_data = curr_play_data[curr_play_data['event'] == END_EVENT]\n",
    "                try:\n",
    "                    x2 = end_data[end_data['nflId'] == closest1].x.values[0]\n",
    "                except:\n",
    "#                     print(END_EVENT, closest1)\n",
    "#                     print(end_data)\n",
    "                    continue\n",
    "\n",
    "                if end_data.playDirection.values[0] == 'left':\n",
    "                    yards = x1 - x2\n",
    "                elif end_data.playDirection.values[0] == 'right':\n",
    "                    yards = x2 - x1\n",
    "                else:\n",
    "                    print('No direction?')\n",
    "\n",
    "                average_yac[closest1].append(yards if yards > 0 else 0)"
   ]
  },
  {
   "cell_type": "code",
   "execution_count": 8,
   "metadata": {},
   "outputs": [
    {
     "data": {
      "text/plain": [
       "[('Jeff Driskel', 12.99),\n",
       " ('Darren Waller', 10.634999999999998),\n",
       " ('Derrick Willies', 10.01),\n",
       " ('Eric Tomlinson', 7.923999999999997),\n",
       " ('Frank Gore', 7.531428571428571),\n",
       " ('Patrick DiMarco', 6.890000000000001),\n",
       " ('Adrian Peterson', 6.821428571428574),\n",
       " ('Chase Daniel', 6.740000000000009),\n",
       " ('Ed Dickson', 6.4875000000000025),\n",
       " ('D.J. Moore', 6.3475),\n",
       " (\"De'Anthony Thomas\", 6.344999999999999),\n",
       " ('Dontrell Hilliard', 6.321428571428572),\n",
       " ('Jordan Akins', 6.177499999999999),\n",
       " ('Jalen Tolliver', 6.150000000000006),\n",
       " ('Chris Ivory', 6.043333333333332),\n",
       " ('Mo Alie-Cox', 6.027500000000002),\n",
       " ('A.J. Derby', 5.980000000000004),\n",
       " ('Jermaine Gresham', 5.643750000000001),\n",
       " ('David Moore', 5.591999999999999),\n",
       " ('Richie James', 5.529999999999997),\n",
       " ('Sammie Coates', 5.459999999999994),\n",
       " ('Isaiah Crowell', 5.456111111111111),\n",
       " ('Brandon Marshall', 5.25),\n",
       " ('DeAndre Washington', 5.200000000000003),\n",
       " ('Zach Zenner', 5.160000000000001),\n",
       " ('Allen Robinson', 5.040434782608695),\n",
       " ('Will Dissly', 5.010000000000005),\n",
       " ('C.J. Ham', 4.984),\n",
       " ('Justin Jackson', 4.9719999999999995),\n",
       " ('Delanie Walker', 4.896666666666666),\n",
       " ('Quincy Enunwa', 4.8447826086956525),\n",
       " ('Keith Kirkwood', 4.8114285714285705),\n",
       " ('Orson Charles', 4.749999999999997),\n",
       " ('Tyler Kroft', 4.724999999999998),\n",
       " ('Josh Hill', 4.688666666666667),\n",
       " ('George Kittle', 4.6721818181818175),\n",
       " ('Josh Gordon', 4.660000000000001),\n",
       " ('Spencer Ware', 4.649375000000001),\n",
       " ('Austin Ekeler', 4.580416666666667),\n",
       " ('Keke Coutee', 4.568749999999999),\n",
       " ('Alex Collins', 4.555714285714284),\n",
       " ('Equanimeous St. Brown', 4.545833333333333),\n",
       " ('Torrey Smith', 4.512222222222221),\n",
       " ('Gehrig Dieter', 4.460000000000001),\n",
       " ('Matt Breida', 4.392666666666668),\n",
       " ('Vance McDonald', 4.390810810810811),\n",
       " ('Antonio Callaway', 4.3374999999999995),\n",
       " ('Kareem Hunt', 4.327500000000001),\n",
       " ('Dalvin Cook', 4.305833333333333),\n",
       " ('Matt Flanagan', 4.299999999999997)]"
      ]
     },
     "execution_count": 8,
     "metadata": {},
     "output_type": "execute_result"
    }
   ],
   "source": [
    "receiver_avg = {k: np.sum(v) / len(v) for k,v in average_yac.items()}\n",
    "readable_dict = {mapIdToName(k): v for k,v in receiver_avg.items()}\n",
    "sorted(readable_dict.items(), key=lambda t: t[1], reverse=True)[:50]"
   ]
  },
  {
   "cell_type": "code",
   "execution_count": 9,
   "metadata": {},
   "outputs": [],
   "source": [
    "with open('receiver_ability.csv', 'w') as csv_file:  \n",
    "    writer = csv.writer(csv_file)\n",
    "    writer.writerow(['nflId', 'score'])\n",
    "    for key, value in receiver_avg.items():\n",
    "       writer.writerow([key, value])"
   ]
  },
  {
   "cell_type": "code",
   "execution_count": 15,
   "metadata": {},
   "outputs": [
    {
     "data": {
      "text/plain": [
       "[('Christian McCaffrey', 3.9537907137907133),\n",
       " ('Saquon Barkley', 3.3735897435897435),\n",
       " ('George Kittle', 3.294487179487179),\n",
       " ('D.J. Moore', 3.0109935897435895),\n",
       " ('Michael Thomas', 2.839358974358975),\n",
       " ('James Conner', 2.8149019607843133),\n",
       " ('Alvin Kamara', 2.6751373626373622),\n",
       " ('Golden Tate', 2.632435897435899),\n",
       " ('Travis Kelce', 2.4575641025641017),\n",
       " ('Ezekiel Elliott', 2.3436785009861927),\n",
       " ('Jalen Richard', 2.2131297134238315),\n",
       " ('Vance McDonald', 2.0828205128205126),\n",
       " ('JuJu Smith-Schuster', 2.0590666666666664),\n",
       " ('Willie Snead', 1.9869230769230766),\n",
       " ('Kenny Golladay', 1.9313186813186818)]"
      ]
     },
     "execution_count": 15,
     "metadata": {},
     "output_type": "execute_result"
    }
   ],
   "source": [
    "MAX_CATCHES = max(total_catches.values())\n",
    "receiver_avg_scaled = {k: ((np.sum(v) / len(v))) * ((total_catches.get(k, 0) / MAX_CATCHES)) for k,v in average_yac.items()}\n",
    "readable_dict = {mapIdToName(k): v for k,v in receiver_avg_scaled.items()}\n",
    "best = sorted(readable_dict.items(), key=lambda t: t[1], reverse=True)[:15]\n",
    "best"
   ]
  },
  {
   "cell_type": "code",
   "execution_count": 11,
   "metadata": {},
   "outputs": [],
   "source": [
    "with open('receiver_ability_scaled.csv', 'w') as csv_file:  \n",
    "    writer = csv.writer(csv_file)\n",
    "    writer.writerow(['nflId', 'receiver_score'])\n",
    "    for key, value in receiver_avg_scaled.items():\n",
    "       writer.writerow([key, value])"
   ]
  },
  {
   "cell_type": "code",
   "execution_count": 17,
   "metadata": {},
   "outputs": [
    {
     "data": {
      "text/html": [
       "<div>\n",
       "<style scoped>\n",
       "    .dataframe tbody tr th:only-of-type {\n",
       "        vertical-align: middle;\n",
       "    }\n",
       "\n",
       "    .dataframe tbody tr th {\n",
       "        vertical-align: top;\n",
       "    }\n",
       "\n",
       "    .dataframe thead th {\n",
       "        text-align: right;\n",
       "    }\n",
       "</style>\n",
       "<table border=\"1\" class=\"dataframe\">\n",
       "  <thead>\n",
       "    <tr style=\"text-align: right;\">\n",
       "      <th></th>\n",
       "      <th>name</th>\n",
       "      <th>score</th>\n",
       "    </tr>\n",
       "  </thead>\n",
       "  <tbody>\n",
       "    <tr>\n",
       "      <th>0</th>\n",
       "      <td>Christian McCaffrey</td>\n",
       "      <td>3.953791</td>\n",
       "    </tr>\n",
       "    <tr>\n",
       "      <th>1</th>\n",
       "      <td>Saquon Barkley</td>\n",
       "      <td>3.373590</td>\n",
       "    </tr>\n",
       "    <tr>\n",
       "      <th>2</th>\n",
       "      <td>George Kittle</td>\n",
       "      <td>3.294487</td>\n",
       "    </tr>\n",
       "    <tr>\n",
       "      <th>3</th>\n",
       "      <td>D.J. Moore</td>\n",
       "      <td>3.010994</td>\n",
       "    </tr>\n",
       "    <tr>\n",
       "      <th>4</th>\n",
       "      <td>Michael Thomas</td>\n",
       "      <td>2.839359</td>\n",
       "    </tr>\n",
       "    <tr>\n",
       "      <th>5</th>\n",
       "      <td>James Conner</td>\n",
       "      <td>2.814902</td>\n",
       "    </tr>\n",
       "    <tr>\n",
       "      <th>6</th>\n",
       "      <td>Alvin Kamara</td>\n",
       "      <td>2.675137</td>\n",
       "    </tr>\n",
       "    <tr>\n",
       "      <th>7</th>\n",
       "      <td>Golden Tate</td>\n",
       "      <td>2.632436</td>\n",
       "    </tr>\n",
       "    <tr>\n",
       "      <th>8</th>\n",
       "      <td>Travis Kelce</td>\n",
       "      <td>2.457564</td>\n",
       "    </tr>\n",
       "    <tr>\n",
       "      <th>9</th>\n",
       "      <td>Ezekiel Elliott</td>\n",
       "      <td>2.343679</td>\n",
       "    </tr>\n",
       "    <tr>\n",
       "      <th>10</th>\n",
       "      <td>Jalen Richard</td>\n",
       "      <td>2.213130</td>\n",
       "    </tr>\n",
       "    <tr>\n",
       "      <th>11</th>\n",
       "      <td>Vance McDonald</td>\n",
       "      <td>2.082821</td>\n",
       "    </tr>\n",
       "    <tr>\n",
       "      <th>12</th>\n",
       "      <td>JuJu Smith-Schuster</td>\n",
       "      <td>2.059067</td>\n",
       "    </tr>\n",
       "    <tr>\n",
       "      <th>13</th>\n",
       "      <td>Willie Snead</td>\n",
       "      <td>1.986923</td>\n",
       "    </tr>\n",
       "    <tr>\n",
       "      <th>14</th>\n",
       "      <td>Kenny Golladay</td>\n",
       "      <td>1.931319</td>\n",
       "    </tr>\n",
       "  </tbody>\n",
       "</table>\n",
       "</div>"
      ],
      "text/plain": [
       "                   name     score\n",
       "0   Christian McCaffrey  3.953791\n",
       "1        Saquon Barkley  3.373590\n",
       "2         George Kittle  3.294487\n",
       "3            D.J. Moore  3.010994\n",
       "4        Michael Thomas  2.839359\n",
       "5          James Conner  2.814902\n",
       "6          Alvin Kamara  2.675137\n",
       "7           Golden Tate  2.632436\n",
       "8          Travis Kelce  2.457564\n",
       "9       Ezekiel Elliott  2.343679\n",
       "10        Jalen Richard  2.213130\n",
       "11       Vance McDonald  2.082821\n",
       "12  JuJu Smith-Schuster  2.059067\n",
       "13         Willie Snead  1.986923\n",
       "14       Kenny Golladay  1.931319"
      ]
     },
     "execution_count": 17,
     "metadata": {},
     "output_type": "execute_result"
    }
   ],
   "source": [
    "br = {}\n",
    "for t in best:\n",
    "    br[t[0]] = t[1]\n",
    "df = pd.DataFrame.from_dict(br, orient='index')\n",
    "df.reset_index(level=0, inplace=True)\n",
    "df = df.rename(columns={\"index\": \"name\", 0: \"score\"})\n",
    "df"
   ]
  },
  {
   "cell_type": "code",
   "execution_count": 18,
   "metadata": {},
   "outputs": [
    {
     "data": {
      "image/png": "[encoded data removed]",
      "text/plain": [
       "<Figure size 432x288 with 1 Axes>"
      ]
     },
     "metadata": {},
     "output_type": "display_data"
    }
   ],
   "source": [
    "sns.set_theme(style='darkgrid')\n",
    "ax = sns.barplot(x='score', y='name', data=df)\n",
    "ax.figure.tight_layout()\n",
    "ax.figure.savefig('rec_graph.png')"
   ]
  },
  {
   "cell_type": "code",
   "execution_count": null,
   "metadata": {},
   "outputs": [],
   "source": []
  }
 ],
 "metadata": {
  "kernelspec": {
   "display_name": "Python 3",
   "language": "python",
   "name": "python3"
  },
  "language_info": {
   "codemirror_mode": {
    "name": "ipython",
    "version": 3
   },
   "file_extension": ".py",
   "mimetype": "text/x-python",
   "name": "python",
   "nbconvert_exporter": "python",
   "pygments_lexer": "ipython3",
   "version": "3.7.6"
  }
 },
 "nbformat": 4,
 "nbformat_minor": 4
}
